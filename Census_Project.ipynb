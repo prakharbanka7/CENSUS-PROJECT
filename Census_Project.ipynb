{
 "cells": [
  {
   "cell_type": "code",
   "execution_count": 1,
   "id": "8070d2e4",
   "metadata": {},
   "outputs": [],
   "source": [
    "import pandas as pd\n",
    "import numpy as np\n",
    "import random\n",
    "import seaborn as sns\n",
    "import matplotlib.pyplot as plt"
   ]
  },
  {
   "cell_type": "code",
   "execution_count": 2,
   "id": "f9cb356e",
   "metadata": {},
   "outputs": [
    {
     "data": {
      "text/html": [
       "<div>\n",
       "<style scoped>\n",
       "    .dataframe tbody tr th:only-of-type {\n",
       "        vertical-align: middle;\n",
       "    }\n",
       "\n",
       "    .dataframe tbody tr th {\n",
       "        vertical-align: top;\n",
       "    }\n",
       "\n",
       "    .dataframe thead th {\n",
       "        text-align: right;\n",
       "    }\n",
       "</style>\n",
       "<table border=\"1\" class=\"dataframe\">\n",
       "  <thead>\n",
       "    <tr style=\"text-align: right;\">\n",
       "      <th></th>\n",
       "      <th>House Number</th>\n",
       "      <th>Street</th>\n",
       "      <th>First Name</th>\n",
       "      <th>Surname</th>\n",
       "      <th>Age</th>\n",
       "      <th>Relationship to Head of House</th>\n",
       "      <th>Marital Status</th>\n",
       "      <th>Gender</th>\n",
       "      <th>Occupation</th>\n",
       "      <th>Infirmity</th>\n",
       "      <th>Religion</th>\n",
       "    </tr>\n",
       "  </thead>\n",
       "  <tbody>\n",
       "    <tr>\n",
       "      <th>0</th>\n",
       "      <td>1</td>\n",
       "      <td>Smith Radial</td>\n",
       "      <td>Grace</td>\n",
       "      <td>Patel</td>\n",
       "      <td>46</td>\n",
       "      <td>Head</td>\n",
       "      <td>Widowed</td>\n",
       "      <td>Female</td>\n",
       "      <td>Petroleum engineer</td>\n",
       "      <td>None</td>\n",
       "      <td>Catholic</td>\n",
       "    </tr>\n",
       "    <tr>\n",
       "      <th>1</th>\n",
       "      <td>1</td>\n",
       "      <td>Smith Radial</td>\n",
       "      <td>Ian</td>\n",
       "      <td>Nixon</td>\n",
       "      <td>24</td>\n",
       "      <td>Lodger</td>\n",
       "      <td>Single</td>\n",
       "      <td>Male</td>\n",
       "      <td>Publishing rights manager</td>\n",
       "      <td>None</td>\n",
       "      <td>Christian</td>\n",
       "    </tr>\n",
       "    <tr>\n",
       "      <th>2</th>\n",
       "      <td>2</td>\n",
       "      <td>Smith Radial</td>\n",
       "      <td>Frederick</td>\n",
       "      <td>Read</td>\n",
       "      <td>87</td>\n",
       "      <td>Head</td>\n",
       "      <td>Divorced</td>\n",
       "      <td>Male</td>\n",
       "      <td>Retired TEFL teacher</td>\n",
       "      <td>None</td>\n",
       "      <td>Catholic</td>\n",
       "    </tr>\n",
       "    <tr>\n",
       "      <th>3</th>\n",
       "      <td>3</td>\n",
       "      <td>Smith Radial</td>\n",
       "      <td>Daniel</td>\n",
       "      <td>Adams</td>\n",
       "      <td>58</td>\n",
       "      <td>Head</td>\n",
       "      <td>Divorced</td>\n",
       "      <td>Male</td>\n",
       "      <td>Therapist, music</td>\n",
       "      <td>None</td>\n",
       "      <td>Catholic</td>\n",
       "    </tr>\n",
       "    <tr>\n",
       "      <th>4</th>\n",
       "      <td>3</td>\n",
       "      <td>Smith Radial</td>\n",
       "      <td>Matthew</td>\n",
       "      <td>Hall</td>\n",
       "      <td>13</td>\n",
       "      <td>Grandson</td>\n",
       "      <td>NaN</td>\n",
       "      <td>Male</td>\n",
       "      <td>Student</td>\n",
       "      <td>None</td>\n",
       "      <td>NaN</td>\n",
       "    </tr>\n",
       "    <tr>\n",
       "      <th>...</th>\n",
       "      <td>...</td>\n",
       "      <td>...</td>\n",
       "      <td>...</td>\n",
       "      <td>...</td>\n",
       "      <td>...</td>\n",
       "      <td>...</td>\n",
       "      <td>...</td>\n",
       "      <td>...</td>\n",
       "      <td>...</td>\n",
       "      <td>...</td>\n",
       "      <td>...</td>\n",
       "    </tr>\n",
       "    <tr>\n",
       "      <th>10605</th>\n",
       "      <td>1</td>\n",
       "      <td>Page Farm</td>\n",
       "      <td>Leon</td>\n",
       "      <td>Gregory</td>\n",
       "      <td>42</td>\n",
       "      <td>Husband</td>\n",
       "      <td>Married</td>\n",
       "      <td>Male</td>\n",
       "      <td>Passenger transport manager</td>\n",
       "      <td>None</td>\n",
       "      <td>None</td>\n",
       "    </tr>\n",
       "    <tr>\n",
       "      <th>10606</th>\n",
       "      <td>1</td>\n",
       "      <td>Page Farm</td>\n",
       "      <td>Sally</td>\n",
       "      <td>Gregory</td>\n",
       "      <td>4</td>\n",
       "      <td>Daughter</td>\n",
       "      <td>NaN</td>\n",
       "      <td>Female</td>\n",
       "      <td>Child</td>\n",
       "      <td>None</td>\n",
       "      <td>NaN</td>\n",
       "    </tr>\n",
       "    <tr>\n",
       "      <th>10607</th>\n",
       "      <td>1</td>\n",
       "      <td>Page Farm</td>\n",
       "      <td>Graham</td>\n",
       "      <td>Gregory</td>\n",
       "      <td>1</td>\n",
       "      <td>Son</td>\n",
       "      <td>NaN</td>\n",
       "      <td>Male</td>\n",
       "      <td>Child</td>\n",
       "      <td>None</td>\n",
       "      <td>NaN</td>\n",
       "    </tr>\n",
       "    <tr>\n",
       "      <th>10608</th>\n",
       "      <td>1</td>\n",
       "      <td>Page Farm</td>\n",
       "      <td>Toby</td>\n",
       "      <td>Jennings</td>\n",
       "      <td>31</td>\n",
       "      <td>Lodger</td>\n",
       "      <td>Single</td>\n",
       "      <td>Male</td>\n",
       "      <td>Unemployed</td>\n",
       "      <td>None</td>\n",
       "      <td>Christian</td>\n",
       "    </tr>\n",
       "    <tr>\n",
       "      <th>10609</th>\n",
       "      <td>1</td>\n",
       "      <td>Page Farm</td>\n",
       "      <td>Cameron</td>\n",
       "      <td>Patel</td>\n",
       "      <td>28</td>\n",
       "      <td>Lodger</td>\n",
       "      <td>Single</td>\n",
       "      <td>Male</td>\n",
       "      <td>Commissioning editor</td>\n",
       "      <td>None</td>\n",
       "      <td>None</td>\n",
       "    </tr>\n",
       "  </tbody>\n",
       "</table>\n",
       "<p>10610 rows × 11 columns</p>\n",
       "</div>"
      ],
      "text/plain": [
       "       House Number        Street First Name   Surname Age  \\\n",
       "0                 1  Smith Radial      Grace     Patel  46   \n",
       "1                 1  Smith Radial        Ian     Nixon  24   \n",
       "2                 2  Smith Radial  Frederick      Read  87   \n",
       "3                 3  Smith Radial     Daniel     Adams  58   \n",
       "4                 3  Smith Radial    Matthew      Hall  13   \n",
       "...             ...           ...        ...       ...  ..   \n",
       "10605             1     Page Farm       Leon   Gregory  42   \n",
       "10606             1     Page Farm      Sally   Gregory   4   \n",
       "10607             1     Page Farm     Graham   Gregory   1   \n",
       "10608             1     Page Farm       Toby  Jennings  31   \n",
       "10609             1     Page Farm    Cameron     Patel  28   \n",
       "\n",
       "      Relationship to Head of House Marital Status  Gender  \\\n",
       "0                              Head        Widowed  Female   \n",
       "1                            Lodger         Single    Male   \n",
       "2                              Head       Divorced    Male   \n",
       "3                              Head       Divorced    Male   \n",
       "4                          Grandson            NaN    Male   \n",
       "...                             ...            ...     ...   \n",
       "10605                       Husband        Married    Male   \n",
       "10606                      Daughter            NaN  Female   \n",
       "10607                           Son            NaN    Male   \n",
       "10608                        Lodger         Single    Male   \n",
       "10609                        Lodger         Single    Male   \n",
       "\n",
       "                        Occupation Infirmity   Religion  \n",
       "0               Petroleum engineer      None   Catholic  \n",
       "1        Publishing rights manager      None  Christian  \n",
       "2             Retired TEFL teacher      None   Catholic  \n",
       "3                 Therapist, music      None   Catholic  \n",
       "4                          Student      None        NaN  \n",
       "...                            ...       ...        ...  \n",
       "10605  Passenger transport manager      None       None  \n",
       "10606                        Child      None        NaN  \n",
       "10607                        Child      None        NaN  \n",
       "10608                   Unemployed      None  Christian  \n",
       "10609         Commissioning editor      None       None  \n",
       "\n",
       "[10610 rows x 11 columns]"
      ]
     },
     "execution_count": 2,
     "metadata": {},
     "output_type": "execute_result"
    }
   ],
   "source": [
    "df=pd.read_csv('census_20.csv')\n",
    "df"
   ]
  },
  {
   "cell_type": "code",
   "execution_count": 3,
   "id": "48ee331b",
   "metadata": {},
   "outputs": [
    {
     "name": "stdout",
     "output_type": "stream",
     "text": [
      "<class 'pandas.core.frame.DataFrame'>\n",
      "RangeIndex: 10610 entries, 0 to 10609\n",
      "Data columns (total 11 columns):\n",
      " #   Column                         Non-Null Count  Dtype \n",
      "---  ------                         --------------  ----- \n",
      " 0   House Number                   10610 non-null  int64 \n",
      " 1   Street                         10610 non-null  object\n",
      " 2   First Name                     10610 non-null  object\n",
      " 3   Surname                        10610 non-null  object\n",
      " 4   Age                            10610 non-null  object\n",
      " 5   Relationship to Head of House  10610 non-null  object\n",
      " 6   Marital Status                 7995 non-null   object\n",
      " 7   Gender                         10610 non-null  object\n",
      " 8   Occupation                     10610 non-null  object\n",
      " 9   Infirmity                      10610 non-null  object\n",
      " 10  Religion                       7928 non-null   object\n",
      "dtypes: int64(1), object(10)\n",
      "memory usage: 911.9+ KB\n"
     ]
    }
   ],
   "source": [
    "df.info()"
   ]
  },
  {
   "cell_type": "code",
   "execution_count": 4,
   "id": "3f43164c",
   "metadata": {},
   "outputs": [
    {
     "data": {
      "text/plain": [
       "array(['46', '24', '87', '58', '13', '9', '38', '12', '69', '42', '48',\n",
       "       '8', '33', '16', '6', '4', '74', '70', '40', '82', '28', '71',\n",
       "       '72', '86', '84', '34', '5', '2', '47', '20', '39', '23', '30',\n",
       "       '31', '1', '60', '105', '102', '43', '41', '10', '50', '14', '49',\n",
       "       '11', '78', '37', '45', '35', '61', '18', '52', '51', '15', '7',\n",
       "       '65', '27', '73', '59', '54', '17', '36', '63', '3', '62', '21',\n",
       "       '0', '32', '29', '83', '68', '53', '67', '80', '88', '100', '76',\n",
       "       '22', '85', '75', '81', '26', '66', '19', '94', '55', '64', '56',\n",
       "       '44', '57', '25', '89', '77', '79', '97', '95', '98', '104',\n",
       "       '43.54302670766108', '49.54302670766108', '5.0', '103', ' ', '91',\n",
       "       '90', '96', '89.33008765095417', '94.33008765095417', '41.0',\n",
       "       '38.0', '99', '93', '89.2477665064506', '112'], dtype=object)"
      ]
     },
     "execution_count": 4,
     "metadata": {},
     "output_type": "execute_result"
    }
   ],
   "source": [
    "df['Age'].unique()"
   ]
  },
  {
   "cell_type": "code",
   "execution_count": 5,
   "id": "f425f833",
   "metadata": {},
   "outputs": [
    {
     "data": {
      "text/html": [
       "<div>\n",
       "<style scoped>\n",
       "    .dataframe tbody tr th:only-of-type {\n",
       "        vertical-align: middle;\n",
       "    }\n",
       "\n",
       "    .dataframe tbody tr th {\n",
       "        vertical-align: top;\n",
       "    }\n",
       "\n",
       "    .dataframe thead th {\n",
       "        text-align: right;\n",
       "    }\n",
       "</style>\n",
       "<table border=\"1\" class=\"dataframe\">\n",
       "  <thead>\n",
       "    <tr style=\"text-align: right;\">\n",
       "      <th></th>\n",
       "      <th>House Number</th>\n",
       "      <th>Street</th>\n",
       "      <th>First Name</th>\n",
       "      <th>Surname</th>\n",
       "      <th>Age</th>\n",
       "      <th>Relationship to Head of House</th>\n",
       "      <th>Marital Status</th>\n",
       "      <th>Gender</th>\n",
       "      <th>Occupation</th>\n",
       "      <th>Infirmity</th>\n",
       "      <th>Religion</th>\n",
       "    </tr>\n",
       "  </thead>\n",
       "  <tbody>\n",
       "    <tr>\n",
       "      <th>2480</th>\n",
       "      <td>27</td>\n",
       "      <td>Mustard Roads</td>\n",
       "      <td>Stephanie</td>\n",
       "      <td>Brown</td>\n",
       "      <td></td>\n",
       "      <td>Daughter</td>\n",
       "      <td>NaN</td>\n",
       "      <td>Female</td>\n",
       "      <td>Student</td>\n",
       "      <td>None</td>\n",
       "      <td>NaN</td>\n",
       "    </tr>\n",
       "    <tr>\n",
       "      <th>4575</th>\n",
       "      <td>96</td>\n",
       "      <td>Hudson Gateway</td>\n",
       "      <td>Jasmine</td>\n",
       "      <td>Gibson</td>\n",
       "      <td></td>\n",
       "      <td>Head</td>\n",
       "      <td>Single</td>\n",
       "      <td>Female</td>\n",
       "      <td>Illustrator</td>\n",
       "      <td>None</td>\n",
       "      <td>Catholic</td>\n",
       "    </tr>\n",
       "    <tr>\n",
       "      <th>5885</th>\n",
       "      <td>12</td>\n",
       "      <td>Henge Street</td>\n",
       "      <td>John</td>\n",
       "      <td>Harris</td>\n",
       "      <td></td>\n",
       "      <td>Son</td>\n",
       "      <td>NaN</td>\n",
       "      <td>Male</td>\n",
       "      <td>Student</td>\n",
       "      <td>None</td>\n",
       "      <td>NaN</td>\n",
       "    </tr>\n",
       "    <tr>\n",
       "      <th>6746</th>\n",
       "      <td>44</td>\n",
       "      <td>South Avenue</td>\n",
       "      <td>Arthur</td>\n",
       "      <td>Mitchell</td>\n",
       "      <td></td>\n",
       "      <td>Son</td>\n",
       "      <td>NaN</td>\n",
       "      <td>Male</td>\n",
       "      <td>Student</td>\n",
       "      <td>None</td>\n",
       "      <td>NaN</td>\n",
       "    </tr>\n",
       "    <tr>\n",
       "      <th>9900</th>\n",
       "      <td>61</td>\n",
       "      <td>Regent Coves</td>\n",
       "      <td>Susan</td>\n",
       "      <td>Ross</td>\n",
       "      <td></td>\n",
       "      <td>Daughter</td>\n",
       "      <td>Divorced</td>\n",
       "      <td>Female</td>\n",
       "      <td>Nurse, children's</td>\n",
       "      <td>None</td>\n",
       "      <td>Christian</td>\n",
       "    </tr>\n",
       "  </tbody>\n",
       "</table>\n",
       "</div>"
      ],
      "text/plain": [
       "      House Number          Street First Name   Surname Age  \\\n",
       "2480            27   Mustard Roads  Stephanie     Brown       \n",
       "4575            96  Hudson Gateway    Jasmine    Gibson       \n",
       "5885            12    Henge Street       John    Harris       \n",
       "6746            44    South Avenue     Arthur  Mitchell       \n",
       "9900            61    Regent Coves      Susan      Ross       \n",
       "\n",
       "     Relationship to Head of House Marital Status  Gender         Occupation  \\\n",
       "2480                      Daughter            NaN  Female            Student   \n",
       "4575                          Head         Single  Female        Illustrator   \n",
       "5885                           Son            NaN    Male            Student   \n",
       "6746                           Son            NaN    Male            Student   \n",
       "9900                      Daughter       Divorced  Female  Nurse, children's   \n",
       "\n",
       "     Infirmity   Religion  \n",
       "2480      None        NaN  \n",
       "4575      None   Catholic  \n",
       "5885      None        NaN  \n",
       "6746      None        NaN  \n",
       "9900      None  Christian  "
      ]
     },
     "execution_count": 5,
     "metadata": {},
     "output_type": "execute_result"
    }
   ],
   "source": [
    "df[df['Age'] == ' ']"
   ]
  },
  {
   "cell_type": "code",
   "execution_count": 6,
   "id": "fcb830a1",
   "metadata": {},
   "outputs": [
    {
     "data": {
      "text/plain": [
       "4        13\n",
       "5         9\n",
       "7        12\n",
       "12        8\n",
       "14       16\n",
       "         ..\n",
       "10597    10\n",
       "10598     9\n",
       "10601    17\n",
       "10602    11\n",
       "10603    10\n",
       "Name: Age, Length: 2125, dtype: object"
      ]
     },
     "execution_count": 6,
     "metadata": {},
     "output_type": "execute_result"
    }
   ],
   "source": [
    "df['Age'][df['Occupation']=='Student'] #calculating the average age of students"
   ]
  },
  {
   "cell_type": "code",
   "execution_count": 7,
   "id": "02567606",
   "metadata": {},
   "outputs": [],
   "source": [
    "age=[]\n",
    "for i in (df['Age'][df['Occupation']=='Student']):\n",
    "    try:\n",
    "        age.append(int(i))\n",
    "    except:\n",
    "        try:\n",
    "            age.append(int(float(i))) #converting the float ages to int\n",
    "        except:\n",
    "            continue    "
   ]
  },
  {
   "cell_type": "code",
   "execution_count": 8,
   "id": "f11a03d3",
   "metadata": {},
   "outputs": [
    {
     "data": {
      "text/plain": [
       "12.0"
      ]
     },
     "execution_count": 8,
     "metadata": {},
     "output_type": "execute_result"
    }
   ],
   "source": [
    "agear=np.array(age)\n",
    "np.median(agear)"
   ]
  },
  {
   "cell_type": "code",
   "execution_count": 9,
   "id": "82cb4fe2",
   "metadata": {},
   "outputs": [],
   "source": [
    "s=(((df['Age'][df['Occupation']=='Student']))==' ')\n",
    "for i in s.index:\n",
    "    if s[i]:\n",
    "        df.loc[i,'Age'] = np.median(agear) #replacing the missing ages with the median age calculated"
   ]
  },
  {
   "cell_type": "code",
   "execution_count": 10,
   "id": "923989cf",
   "metadata": {},
   "outputs": [],
   "source": [
    "#type conversion of ages in flaot to int\n",
    "for i in df['Age'].index:\n",
    "    try:\n",
    "        df.loc[i,'Age'] =int(df['Age'][i])\n",
    "    except:\n",
    "        try:\n",
    "            df.loc[i,'Age'] =int(float(df['Age'][i]))\n",
    "        except:\n",
    "            continue"
   ]
  },
  {
   "cell_type": "code",
   "execution_count": 11,
   "id": "4d18ed35",
   "metadata": {},
   "outputs": [
    {
     "data": {
      "text/html": [
       "<div>\n",
       "<style scoped>\n",
       "    .dataframe tbody tr th:only-of-type {\n",
       "        vertical-align: middle;\n",
       "    }\n",
       "\n",
       "    .dataframe tbody tr th {\n",
       "        vertical-align: top;\n",
       "    }\n",
       "\n",
       "    .dataframe thead th {\n",
       "        text-align: right;\n",
       "    }\n",
       "</style>\n",
       "<table border=\"1\" class=\"dataframe\">\n",
       "  <thead>\n",
       "    <tr style=\"text-align: right;\">\n",
       "      <th></th>\n",
       "      <th>House Number</th>\n",
       "      <th>Street</th>\n",
       "      <th>First Name</th>\n",
       "      <th>Surname</th>\n",
       "      <th>Age</th>\n",
       "      <th>Relationship to Head of House</th>\n",
       "      <th>Marital Status</th>\n",
       "      <th>Gender</th>\n",
       "      <th>Occupation</th>\n",
       "      <th>Infirmity</th>\n",
       "      <th>Religion</th>\n",
       "    </tr>\n",
       "  </thead>\n",
       "  <tbody>\n",
       "    <tr>\n",
       "      <th>4575</th>\n",
       "      <td>96</td>\n",
       "      <td>Hudson Gateway</td>\n",
       "      <td>Jasmine</td>\n",
       "      <td>Gibson</td>\n",
       "      <td></td>\n",
       "      <td>Head</td>\n",
       "      <td>Single</td>\n",
       "      <td>Female</td>\n",
       "      <td>Illustrator</td>\n",
       "      <td>None</td>\n",
       "      <td>Catholic</td>\n",
       "    </tr>\n",
       "    <tr>\n",
       "      <th>9900</th>\n",
       "      <td>61</td>\n",
       "      <td>Regent Coves</td>\n",
       "      <td>Susan</td>\n",
       "      <td>Ross</td>\n",
       "      <td></td>\n",
       "      <td>Daughter</td>\n",
       "      <td>Divorced</td>\n",
       "      <td>Female</td>\n",
       "      <td>Nurse, children's</td>\n",
       "      <td>None</td>\n",
       "      <td>Christian</td>\n",
       "    </tr>\n",
       "  </tbody>\n",
       "</table>\n",
       "</div>"
      ],
      "text/plain": [
       "      House Number          Street First Name Surname Age  \\\n",
       "4575            96  Hudson Gateway    Jasmine  Gibson       \n",
       "9900            61    Regent Coves      Susan    Ross       \n",
       "\n",
       "     Relationship to Head of House Marital Status  Gender         Occupation  \\\n",
       "4575                          Head         Single  Female        Illustrator   \n",
       "9900                      Daughter       Divorced  Female  Nurse, children's   \n",
       "\n",
       "     Infirmity   Religion  \n",
       "4575      None   Catholic  \n",
       "9900      None  Christian  "
      ]
     },
     "execution_count": 11,
     "metadata": {},
     "output_type": "execute_result"
    }
   ],
   "source": [
    "df[df['Age'] == ' ']"
   ]
  },
  {
   "cell_type": "code",
   "execution_count": 12,
   "id": "dc662b52",
   "metadata": {},
   "outputs": [],
   "source": [
    "group=df.groupby(['House Number','Street']) #craetes a dictionary of indexes with same 'House Number'and 'Street'\n",
    "group.groups.keys()\n",
    "#fuction to return the dataframe of entire house.\n",
    "def give_house_detail(i,r): #i is the index of one of the house member and r is the dataframe to look in.\n",
    "    o=df.iloc[group.groups[(r.loc[i,'House Number'], r.loc[i,'Street'])]]  \n",
    "    return o"
   ]
  },
  {
   "cell_type": "markdown",
   "id": "b7ab597c",
   "metadata": {},
   "source": [
    "## Seeing the Household detail to estimate the age of the person"
   ]
  },
  {
   "cell_type": "code",
   "execution_count": 13,
   "id": "c6eb1b63",
   "metadata": {},
   "outputs": [
    {
     "data": {
      "text/html": [
       "<div>\n",
       "<style scoped>\n",
       "    .dataframe tbody tr th:only-of-type {\n",
       "        vertical-align: middle;\n",
       "    }\n",
       "\n",
       "    .dataframe tbody tr th {\n",
       "        vertical-align: top;\n",
       "    }\n",
       "\n",
       "    .dataframe thead th {\n",
       "        text-align: right;\n",
       "    }\n",
       "</style>\n",
       "<table border=\"1\" class=\"dataframe\">\n",
       "  <thead>\n",
       "    <tr style=\"text-align: right;\">\n",
       "      <th></th>\n",
       "      <th>House Number</th>\n",
       "      <th>Street</th>\n",
       "      <th>First Name</th>\n",
       "      <th>Surname</th>\n",
       "      <th>Age</th>\n",
       "      <th>Relationship to Head of House</th>\n",
       "      <th>Marital Status</th>\n",
       "      <th>Gender</th>\n",
       "      <th>Occupation</th>\n",
       "      <th>Infirmity</th>\n",
       "      <th>Religion</th>\n",
       "    </tr>\n",
       "  </thead>\n",
       "  <tbody>\n",
       "    <tr>\n",
       "      <th>4575</th>\n",
       "      <td>96</td>\n",
       "      <td>Hudson Gateway</td>\n",
       "      <td>Jasmine</td>\n",
       "      <td>Gibson</td>\n",
       "      <td></td>\n",
       "      <td>Head</td>\n",
       "      <td>Single</td>\n",
       "      <td>Female</td>\n",
       "      <td>Illustrator</td>\n",
       "      <td>None</td>\n",
       "      <td>Catholic</td>\n",
       "    </tr>\n",
       "    <tr>\n",
       "      <th>4576</th>\n",
       "      <td>96</td>\n",
       "      <td>Hudson Gateway</td>\n",
       "      <td>Kelly</td>\n",
       "      <td>Gibson</td>\n",
       "      <td>10</td>\n",
       "      <td>Granddaughter</td>\n",
       "      <td>NaN</td>\n",
       "      <td>Female</td>\n",
       "      <td>Student</td>\n",
       "      <td>None</td>\n",
       "      <td>NaN</td>\n",
       "    </tr>\n",
       "  </tbody>\n",
       "</table>\n",
       "</div>"
      ],
      "text/plain": [
       "      House Number          Street First Name Surname Age  \\\n",
       "4575            96  Hudson Gateway    Jasmine  Gibson       \n",
       "4576            96  Hudson Gateway      Kelly  Gibson  10   \n",
       "\n",
       "     Relationship to Head of House Marital Status  Gender   Occupation  \\\n",
       "4575                          Head         Single  Female  Illustrator   \n",
       "4576                 Granddaughter            NaN  Female      Student   \n",
       "\n",
       "     Infirmity  Religion  \n",
       "4575      None  Catholic  \n",
       "4576      None       NaN  "
      ]
     },
     "execution_count": 13,
     "metadata": {},
     "output_type": "execute_result"
    }
   ],
   "source": [
    "give_house_detail(4575,df) #gives house detail of person at index 4575"
   ]
  },
  {
   "cell_type": "code",
   "execution_count": 14,
   "id": "5e7f63d8",
   "metadata": {},
   "outputs": [],
   "source": [
    "df.loc[4575,'Age']=65"
   ]
  },
  {
   "cell_type": "code",
   "execution_count": 15,
   "id": "7847a391",
   "metadata": {},
   "outputs": [
    {
     "data": {
      "text/html": [
       "<div>\n",
       "<style scoped>\n",
       "    .dataframe tbody tr th:only-of-type {\n",
       "        vertical-align: middle;\n",
       "    }\n",
       "\n",
       "    .dataframe tbody tr th {\n",
       "        vertical-align: top;\n",
       "    }\n",
       "\n",
       "    .dataframe thead th {\n",
       "        text-align: right;\n",
       "    }\n",
       "</style>\n",
       "<table border=\"1\" class=\"dataframe\">\n",
       "  <thead>\n",
       "    <tr style=\"text-align: right;\">\n",
       "      <th></th>\n",
       "      <th>House Number</th>\n",
       "      <th>Street</th>\n",
       "      <th>First Name</th>\n",
       "      <th>Surname</th>\n",
       "      <th>Age</th>\n",
       "      <th>Relationship to Head of House</th>\n",
       "      <th>Marital Status</th>\n",
       "      <th>Gender</th>\n",
       "      <th>Occupation</th>\n",
       "      <th>Infirmity</th>\n",
       "      <th>Religion</th>\n",
       "    </tr>\n",
       "  </thead>\n",
       "  <tbody>\n",
       "    <tr>\n",
       "      <th>9899</th>\n",
       "      <td>61</td>\n",
       "      <td>Regent Coves</td>\n",
       "      <td>Pauline</td>\n",
       "      <td>Ross</td>\n",
       "      <td>66</td>\n",
       "      <td>Head</td>\n",
       "      <td>Widowed</td>\n",
       "      <td>Female</td>\n",
       "      <td>Immigration officer</td>\n",
       "      <td>None</td>\n",
       "      <td>Christian</td>\n",
       "    </tr>\n",
       "    <tr>\n",
       "      <th>9900</th>\n",
       "      <td>61</td>\n",
       "      <td>Regent Coves</td>\n",
       "      <td>Susan</td>\n",
       "      <td>Ross</td>\n",
       "      <td></td>\n",
       "      <td>Daughter</td>\n",
       "      <td>Divorced</td>\n",
       "      <td>Female</td>\n",
       "      <td>Nurse, children's</td>\n",
       "      <td>None</td>\n",
       "      <td>Christian</td>\n",
       "    </tr>\n",
       "    <tr>\n",
       "      <th>9901</th>\n",
       "      <td>61</td>\n",
       "      <td>Regent Coves</td>\n",
       "      <td>Joanne</td>\n",
       "      <td>Ross</td>\n",
       "      <td>29</td>\n",
       "      <td>Daughter</td>\n",
       "      <td>Single</td>\n",
       "      <td>Female</td>\n",
       "      <td>Animator</td>\n",
       "      <td>None</td>\n",
       "      <td>None</td>\n",
       "    </tr>\n",
       "    <tr>\n",
       "      <th>9902</th>\n",
       "      <td>61</td>\n",
       "      <td>Regent Coves</td>\n",
       "      <td>Allan</td>\n",
       "      <td>Ross</td>\n",
       "      <td>29</td>\n",
       "      <td>Son</td>\n",
       "      <td>Single</td>\n",
       "      <td>Male</td>\n",
       "      <td>Unemployed</td>\n",
       "      <td>None</td>\n",
       "      <td>Christian</td>\n",
       "    </tr>\n",
       "  </tbody>\n",
       "</table>\n",
       "</div>"
      ],
      "text/plain": [
       "      House Number        Street First Name Surname Age  \\\n",
       "9899            61  Regent Coves    Pauline    Ross  66   \n",
       "9900            61  Regent Coves      Susan    Ross       \n",
       "9901            61  Regent Coves     Joanne    Ross  29   \n",
       "9902            61  Regent Coves      Allan    Ross  29   \n",
       "\n",
       "     Relationship to Head of House Marital Status  Gender  \\\n",
       "9899                          Head        Widowed  Female   \n",
       "9900                      Daughter       Divorced  Female   \n",
       "9901                      Daughter         Single  Female   \n",
       "9902                           Son         Single    Male   \n",
       "\n",
       "               Occupation Infirmity   Religion  \n",
       "9899  Immigration officer      None  Christian  \n",
       "9900    Nurse, children's      None  Christian  \n",
       "9901             Animator      None       None  \n",
       "9902           Unemployed      None  Christian  "
      ]
     },
     "execution_count": 15,
     "metadata": {},
     "output_type": "execute_result"
    }
   ],
   "source": [
    "give_house_detail(9900,df)"
   ]
  },
  {
   "cell_type": "code",
   "execution_count": 16,
   "id": "4d516293",
   "metadata": {},
   "outputs": [],
   "source": [
    "df.loc[9900,'Age']=25"
   ]
  },
  {
   "cell_type": "code",
   "execution_count": 17,
   "id": "a88c064d",
   "metadata": {},
   "outputs": [],
   "source": [
    "df['Age']=df['Age'].astype('int64')"
   ]
  },
  {
   "cell_type": "markdown",
   "id": "62669840",
   "metadata": {},
   "source": [
    "## Cleaning Religion Column"
   ]
  },
  {
   "cell_type": "code",
   "execution_count": 18,
   "id": "0c42cc45",
   "metadata": {},
   "outputs": [
    {
     "data": {
      "text/plain": [
       "array(['Catholic', 'Christian', nan, 'None', 'Methodist', 'Sikh',\n",
       "       'Muslim', 'Undecided', 'Jewish', 'Bahai', ' ', 'Pagan', 'Private',\n",
       "       'Buddist', 'Sith', 'Quaker', 'Agnostic', 'Nope'], dtype=object)"
      ]
     },
     "execution_count": 18,
     "metadata": {},
     "output_type": "execute_result"
    }
   ],
   "source": [
    "df['Religion'].unique()"
   ]
  },
  {
   "cell_type": "code",
   "execution_count": 19,
   "id": "d405a574",
   "metadata": {},
   "outputs": [
    {
     "data": {
      "text/plain": [
       "None         3551\n",
       "Christian    2264\n",
       "Catholic     1099\n",
       "Methodist     762\n",
       "Muslim        126\n",
       "Sikh           72\n",
       "Jewish         29\n",
       "Sith            4\n",
       "Private         4\n",
       "Pagan           3\n",
       "Bahai           3\n",
       "                3\n",
       "Buddist         2\n",
       "Quaker          2\n",
       "Nope            2\n",
       "Undecided       1\n",
       "Agnostic        1\n",
       "Name: Religion, dtype: int64"
      ]
     },
     "execution_count": 19,
     "metadata": {},
     "output_type": "execute_result"
    }
   ],
   "source": [
    "df['Religion'].value_counts()"
   ]
  },
  {
   "cell_type": "code",
   "execution_count": 20,
   "id": "fa8c4ca8",
   "metadata": {},
   "outputs": [],
   "source": [
    "#the function gives the age pyramid graph of any data-frame given. \n",
    "def give_age_adult_pyramid(df,title): #df is the dataframe passed.\n",
    "    male_age=[]\n",
    "    female_age=[]\n",
    "    for i in range(100,-1,-10):\n",
    "        if i==20:\n",
    "            i=i-2 #this is done to keep an age gap to 18 so that we can separate adults from children in graph.\n",
    "        #calculates the array of ages according to age gap\n",
    "        male_age.append(len(df[df['Gender']=='Male'][df[df['Gender']=='Male']['Age']>=i])-sum(male_age)) \n",
    "        female_age.append(len(df[df['Gender']=='Female'][df[df['Gender']=='Female']['Age']>=i])-sum(female_age))\n",
    "    male_age = [i * -1 for i in male_age]\n",
    "    AgeClass = ['100+', '90-99', '80-89', '70-79', '60-69', '50-59', '40-49', '30-39', '18-29', '10-17', '0-9']\n",
    "\n",
    "    age_p = pd.DataFrame({'Age': ['100+', '90-99', '80-89', '70-79', '60-69', '50-59', '40-49',\n",
    "    '30-39', '18-29', '10-17', '0-9'],\n",
    "     'Male': male_age,\n",
    "     'Female': female_age})\n",
    "    \n",
    "    r = random.random()\n",
    "    b = random.random()\n",
    "    g = random.random()\n",
    "    age_pyramid = sns.barplot(x='Male', y='Age', data=age_p, order=AgeClass,\n",
    "    color=(r,g,b), label='Male')\n",
    "    r = random.random()\n",
    "    b = random.random()\n",
    "    g = random.random()\n",
    "    age_pyramid = sns.barplot(x='Female', y='Age', data=age_p, order=AgeClass,\n",
    "    color=(r,g,b), label='Female')\n",
    "    age_pyramid.legend()\n",
    "    age_pyramid.set(xlabel=\"Count\", ylabel=\"Age-Group\", title = \"{} Age Pyramid\".format(title))\n",
    "    return age_pyramid.get_figure()"
   ]
  },
  {
   "cell_type": "code",
   "execution_count": 21,
   "id": "000afae3",
   "metadata": {},
   "outputs": [
    {
     "data": {
      "image/png": "[encoded data removed]",
      "text/plain": [
       "<Figure size 432x288 with 1 Axes>"
      ]
     },
     "metadata": {
      "needs_background": "light"
     },
     "output_type": "display_data"
    }
   ],
   "source": [
    "nan_religion=give_age_adult_pyramid(df[df['Religion'].isna()],'NaN Religion')"
   ]
  },
  {
   "cell_type": "code",
   "execution_count": 22,
   "id": "06fe63a9",
   "metadata": {},
   "outputs": [],
   "source": [
    "u=df[df['Religion'].isna()]\n",
    "u=u[u['Age']<18]\n",
    "u=u[u['Relationship to Head of House']!='None'] #to avoid children with no relation to head"
   ]
  },
  {
   "cell_type": "code",
   "execution_count": 23,
   "id": "da2e08cb",
   "metadata": {},
   "outputs": [
    {
     "data": {
      "text/plain": [
       "array(['Grandson', 'Daughter', 'Son', 'Adopted Son', 'Step-Daughter',\n",
       "       'Step-Son', 'Granddaughter', 'Neice', 'Nephew', 'Adopted Daughter',\n",
       "       'Head', 'Adopted Granddaughter'], dtype=object)"
      ]
     },
     "execution_count": 23,
     "metadata": {},
     "output_type": "execute_result"
    }
   ],
   "source": [
    "u['Relationship to Head of House'].unique()"
   ]
  },
  {
   "cell_type": "code",
   "execution_count": 24,
   "id": "5ff02265",
   "metadata": {},
   "outputs": [],
   "source": [
    "#returns the religion of the head of the house.\n",
    "def give_househead_religion(i,r):\n",
    "    o=give_house_detail(i,r)\n",
    "    return o.loc[o[o['Relationship to Head of House']=='Head'].index.values[0],'Religion']"
   ]
  },
  {
   "cell_type": "code",
   "execution_count": 25,
   "id": "5fda528e",
   "metadata": {},
   "outputs": [],
   "source": [
    "#this is to change the religion of all the young children to the head of the house religion except the kids who do not have any relation to head\n",
    "for i in u.index.values:\n",
    "    df.loc[i,'Religion']=give_househead_religion(i,df) "
   ]
  },
  {
   "cell_type": "code",
   "execution_count": 26,
   "id": "324c513d",
   "metadata": {},
   "outputs": [
    {
     "data": {
      "image/png": "[encoded data removed]",
      "text/plain": [
       "<Figure size 432x288 with 1 Axes>"
      ]
     },
     "metadata": {
      "needs_background": "light"
     },
     "output_type": "display_data"
    }
   ],
   "source": [
    "nan_religion=give_age_adult_pyramid(df[df['Religion'].isna()],'NaN Religion')"
   ]
  },
  {
   "cell_type": "code",
   "execution_count": 27,
   "id": "9058d59f",
   "metadata": {},
   "outputs": [],
   "source": [
    "u=df[df['Religion'].isna()]"
   ]
  },
  {
   "cell_type": "code",
   "execution_count": 28,
   "id": "86662218",
   "metadata": {},
   "outputs": [
    {
     "data": {
      "text/plain": [
       "array(['None', 'Head', 'Partner', 'Step-Son', 'Wife', 'Husband', 'Lodger',\n",
       "       'Sibling'], dtype=object)"
      ]
     },
     "execution_count": 28,
     "metadata": {},
     "output_type": "execute_result"
    }
   ],
   "source": [
    "u['Relationship to Head of House'].unique()"
   ]
  },
  {
   "cell_type": "code",
   "execution_count": 29,
   "id": "6dbc9d09",
   "metadata": {},
   "outputs": [
    {
     "data": {
      "text/html": [
       "<div>\n",
       "<style scoped>\n",
       "    .dataframe tbody tr th:only-of-type {\n",
       "        vertical-align: middle;\n",
       "    }\n",
       "\n",
       "    .dataframe tbody tr th {\n",
       "        vertical-align: top;\n",
       "    }\n",
       "\n",
       "    .dataframe thead th {\n",
       "        text-align: right;\n",
       "    }\n",
       "</style>\n",
       "<table border=\"1\" class=\"dataframe\">\n",
       "  <thead>\n",
       "    <tr style=\"text-align: right;\">\n",
       "      <th></th>\n",
       "      <th>House Number</th>\n",
       "      <th>Street</th>\n",
       "      <th>First Name</th>\n",
       "      <th>Surname</th>\n",
       "      <th>Age</th>\n",
       "      <th>Relationship to Head of House</th>\n",
       "      <th>Marital Status</th>\n",
       "      <th>Gender</th>\n",
       "      <th>Occupation</th>\n",
       "      <th>Infirmity</th>\n",
       "      <th>Religion</th>\n",
       "    </tr>\n",
       "  </thead>\n",
       "  <tbody>\n",
       "    <tr>\n",
       "      <th>12</th>\n",
       "      <td>5</td>\n",
       "      <td>Smith Radial</td>\n",
       "      <td>Mohamed</td>\n",
       "      <td>Hussain</td>\n",
       "      <td>8</td>\n",
       "      <td>None</td>\n",
       "      <td>NaN</td>\n",
       "      <td>Male</td>\n",
       "      <td>Student</td>\n",
       "      <td>None</td>\n",
       "      <td>NaN</td>\n",
       "    </tr>\n",
       "    <tr>\n",
       "      <th>765</th>\n",
       "      <td>56</td>\n",
       "      <td>Knight Road</td>\n",
       "      <td>Leonard</td>\n",
       "      <td>North</td>\n",
       "      <td>8</td>\n",
       "      <td>None</td>\n",
       "      <td>NaN</td>\n",
       "      <td>Male</td>\n",
       "      <td>Student</td>\n",
       "      <td>None</td>\n",
       "      <td>NaN</td>\n",
       "    </tr>\n",
       "    <tr>\n",
       "      <th>766</th>\n",
       "      <td>56</td>\n",
       "      <td>Knight Road</td>\n",
       "      <td>Frances</td>\n",
       "      <td>North</td>\n",
       "      <td>8</td>\n",
       "      <td>None</td>\n",
       "      <td>NaN</td>\n",
       "      <td>Female</td>\n",
       "      <td>Student</td>\n",
       "      <td>None</td>\n",
       "      <td>NaN</td>\n",
       "    </tr>\n",
       "    <tr>\n",
       "      <th>767</th>\n",
       "      <td>56</td>\n",
       "      <td>Knight Road</td>\n",
       "      <td>Malcolm</td>\n",
       "      <td>North</td>\n",
       "      <td>5</td>\n",
       "      <td>None</td>\n",
       "      <td>NaN</td>\n",
       "      <td>Male</td>\n",
       "      <td>Student</td>\n",
       "      <td>None</td>\n",
       "      <td>NaN</td>\n",
       "    </tr>\n",
       "    <tr>\n",
       "      <th>768</th>\n",
       "      <td>56</td>\n",
       "      <td>Knight Road</td>\n",
       "      <td>Sean</td>\n",
       "      <td>North</td>\n",
       "      <td>0</td>\n",
       "      <td>None</td>\n",
       "      <td>NaN</td>\n",
       "      <td>Male</td>\n",
       "      <td>Child</td>\n",
       "      <td>None</td>\n",
       "      <td>NaN</td>\n",
       "    </tr>\n",
       "    <tr>\n",
       "      <th>6236</th>\n",
       "      <td>20</td>\n",
       "      <td>Crownbird Road</td>\n",
       "      <td>Ryan</td>\n",
       "      <td>Clarke</td>\n",
       "      <td>4</td>\n",
       "      <td>None</td>\n",
       "      <td>NaN</td>\n",
       "      <td>Male</td>\n",
       "      <td>Child</td>\n",
       "      <td>None</td>\n",
       "      <td>NaN</td>\n",
       "    </tr>\n",
       "    <tr>\n",
       "      <th>7380</th>\n",
       "      <td>6</td>\n",
       "      <td>Watts Road</td>\n",
       "      <td>Shaun</td>\n",
       "      <td>Morris</td>\n",
       "      <td>5</td>\n",
       "      <td>None</td>\n",
       "      <td>NaN</td>\n",
       "      <td>Male</td>\n",
       "      <td>Student</td>\n",
       "      <td>None</td>\n",
       "      <td>NaN</td>\n",
       "    </tr>\n",
       "  </tbody>\n",
       "</table>\n",
       "</div>"
      ],
      "text/plain": [
       "      House Number          Street First Name  Surname  Age  \\\n",
       "12               5    Smith Radial    Mohamed  Hussain    8   \n",
       "765             56     Knight Road    Leonard    North    8   \n",
       "766             56     Knight Road    Frances    North    8   \n",
       "767             56     Knight Road    Malcolm    North    5   \n",
       "768             56     Knight Road       Sean    North    0   \n",
       "6236            20  Crownbird Road       Ryan   Clarke    4   \n",
       "7380             6      Watts Road      Shaun   Morris    5   \n",
       "\n",
       "     Relationship to Head of House Marital Status  Gender Occupation  \\\n",
       "12                            None            NaN    Male    Student   \n",
       "765                           None            NaN    Male    Student   \n",
       "766                           None            NaN  Female    Student   \n",
       "767                           None            NaN    Male    Student   \n",
       "768                           None            NaN    Male      Child   \n",
       "6236                          None            NaN    Male      Child   \n",
       "7380                          None            NaN    Male    Student   \n",
       "\n",
       "     Infirmity Religion  \n",
       "12        None      NaN  \n",
       "765       None      NaN  \n",
       "766       None      NaN  \n",
       "767       None      NaN  \n",
       "768       None      NaN  \n",
       "6236      None      NaN  \n",
       "7380      None      NaN  "
      ]
     },
     "execution_count": 29,
     "metadata": {},
     "output_type": "execute_result"
    }
   ],
   "source": [
    "#kids staying a house without any relation to the head.\n",
    "u=u[u['Age']<18]\n",
    "u[u['Relationship to Head of House']=='None']"
   ]
  },
  {
   "cell_type": "code",
   "execution_count": 30,
   "id": "bd178970",
   "metadata": {},
   "outputs": [
    {
     "data": {
      "text/html": [
       "<div>\n",
       "<style scoped>\n",
       "    .dataframe tbody tr th:only-of-type {\n",
       "        vertical-align: middle;\n",
       "    }\n",
       "\n",
       "    .dataframe tbody tr th {\n",
       "        vertical-align: top;\n",
       "    }\n",
       "\n",
       "    .dataframe thead th {\n",
       "        text-align: right;\n",
       "    }\n",
       "</style>\n",
       "<table border=\"1\" class=\"dataframe\">\n",
       "  <thead>\n",
       "    <tr style=\"text-align: right;\">\n",
       "      <th></th>\n",
       "      <th>House Number</th>\n",
       "      <th>Street</th>\n",
       "      <th>First Name</th>\n",
       "      <th>Surname</th>\n",
       "      <th>Age</th>\n",
       "      <th>Relationship to Head of House</th>\n",
       "      <th>Marital Status</th>\n",
       "      <th>Gender</th>\n",
       "      <th>Occupation</th>\n",
       "      <th>Infirmity</th>\n",
       "      <th>Religion</th>\n",
       "    </tr>\n",
       "  </thead>\n",
       "  <tbody>\n",
       "    <tr>\n",
       "      <th>761</th>\n",
       "      <td>56</td>\n",
       "      <td>Knight Road</td>\n",
       "      <td>Amber</td>\n",
       "      <td>Curtis</td>\n",
       "      <td>84</td>\n",
       "      <td>Head</td>\n",
       "      <td>Married</td>\n",
       "      <td>Female</td>\n",
       "      <td>Retired Engineer, mining</td>\n",
       "      <td>None</td>\n",
       "      <td>Christian</td>\n",
       "    </tr>\n",
       "    <tr>\n",
       "      <th>762</th>\n",
       "      <td>56</td>\n",
       "      <td>Knight Road</td>\n",
       "      <td>Marc</td>\n",
       "      <td>Curtis</td>\n",
       "      <td>86</td>\n",
       "      <td>Husband</td>\n",
       "      <td>Married</td>\n",
       "      <td>Male</td>\n",
       "      <td>Retired Designer, multimedia</td>\n",
       "      <td>None</td>\n",
       "      <td>Christian</td>\n",
       "    </tr>\n",
       "    <tr>\n",
       "      <th>763</th>\n",
       "      <td>56</td>\n",
       "      <td>Knight Road</td>\n",
       "      <td>Sophie</td>\n",
       "      <td>North</td>\n",
       "      <td>27</td>\n",
       "      <td>None</td>\n",
       "      <td>Married</td>\n",
       "      <td>Female</td>\n",
       "      <td>Planning and development surveyor</td>\n",
       "      <td>None</td>\n",
       "      <td>None</td>\n",
       "    </tr>\n",
       "    <tr>\n",
       "      <th>764</th>\n",
       "      <td>56</td>\n",
       "      <td>Knight Road</td>\n",
       "      <td>Dominic</td>\n",
       "      <td>North</td>\n",
       "      <td>29</td>\n",
       "      <td>None</td>\n",
       "      <td>Married</td>\n",
       "      <td>Male</td>\n",
       "      <td>Commercial/residential surveyor</td>\n",
       "      <td>None</td>\n",
       "      <td>None</td>\n",
       "    </tr>\n",
       "    <tr>\n",
       "      <th>765</th>\n",
       "      <td>56</td>\n",
       "      <td>Knight Road</td>\n",
       "      <td>Leonard</td>\n",
       "      <td>North</td>\n",
       "      <td>8</td>\n",
       "      <td>None</td>\n",
       "      <td>NaN</td>\n",
       "      <td>Male</td>\n",
       "      <td>Student</td>\n",
       "      <td>None</td>\n",
       "      <td>NaN</td>\n",
       "    </tr>\n",
       "    <tr>\n",
       "      <th>766</th>\n",
       "      <td>56</td>\n",
       "      <td>Knight Road</td>\n",
       "      <td>Frances</td>\n",
       "      <td>North</td>\n",
       "      <td>8</td>\n",
       "      <td>None</td>\n",
       "      <td>NaN</td>\n",
       "      <td>Female</td>\n",
       "      <td>Student</td>\n",
       "      <td>None</td>\n",
       "      <td>NaN</td>\n",
       "    </tr>\n",
       "    <tr>\n",
       "      <th>767</th>\n",
       "      <td>56</td>\n",
       "      <td>Knight Road</td>\n",
       "      <td>Malcolm</td>\n",
       "      <td>North</td>\n",
       "      <td>5</td>\n",
       "      <td>None</td>\n",
       "      <td>NaN</td>\n",
       "      <td>Male</td>\n",
       "      <td>Student</td>\n",
       "      <td>None</td>\n",
       "      <td>NaN</td>\n",
       "    </tr>\n",
       "    <tr>\n",
       "      <th>768</th>\n",
       "      <td>56</td>\n",
       "      <td>Knight Road</td>\n",
       "      <td>Sean</td>\n",
       "      <td>North</td>\n",
       "      <td>0</td>\n",
       "      <td>None</td>\n",
       "      <td>NaN</td>\n",
       "      <td>Male</td>\n",
       "      <td>Child</td>\n",
       "      <td>None</td>\n",
       "      <td>NaN</td>\n",
       "    </tr>\n",
       "    <tr>\n",
       "      <th>769</th>\n",
       "      <td>56</td>\n",
       "      <td>Knight Road</td>\n",
       "      <td>Conor</td>\n",
       "      <td>Davison</td>\n",
       "      <td>48</td>\n",
       "      <td>None</td>\n",
       "      <td>Single</td>\n",
       "      <td>Male</td>\n",
       "      <td>Electronics engineer</td>\n",
       "      <td>None</td>\n",
       "      <td>None</td>\n",
       "    </tr>\n",
       "    <tr>\n",
       "      <th>770</th>\n",
       "      <td>56</td>\n",
       "      <td>Knight Road</td>\n",
       "      <td>Melissa</td>\n",
       "      <td>Collins</td>\n",
       "      <td>30</td>\n",
       "      <td>None</td>\n",
       "      <td>Single</td>\n",
       "      <td>Female</td>\n",
       "      <td>Education officer, community</td>\n",
       "      <td>None</td>\n",
       "      <td>Methodist</td>\n",
       "    </tr>\n",
       "    <tr>\n",
       "      <th>771</th>\n",
       "      <td>56</td>\n",
       "      <td>Knight Road</td>\n",
       "      <td>James</td>\n",
       "      <td>Johnson</td>\n",
       "      <td>57</td>\n",
       "      <td>None</td>\n",
       "      <td>Single</td>\n",
       "      <td>Male</td>\n",
       "      <td>Youth worker</td>\n",
       "      <td>None</td>\n",
       "      <td>Christian</td>\n",
       "    </tr>\n",
       "  </tbody>\n",
       "</table>\n",
       "</div>"
      ],
      "text/plain": [
       "     House Number       Street First Name  Surname  Age  \\\n",
       "761            56  Knight Road      Amber   Curtis   84   \n",
       "762            56  Knight Road       Marc   Curtis   86   \n",
       "763            56  Knight Road     Sophie    North   27   \n",
       "764            56  Knight Road    Dominic    North   29   \n",
       "765            56  Knight Road    Leonard    North    8   \n",
       "766            56  Knight Road    Frances    North    8   \n",
       "767            56  Knight Road    Malcolm    North    5   \n",
       "768            56  Knight Road       Sean    North    0   \n",
       "769            56  Knight Road      Conor  Davison   48   \n",
       "770            56  Knight Road    Melissa  Collins   30   \n",
       "771            56  Knight Road      James  Johnson   57   \n",
       "\n",
       "    Relationship to Head of House Marital Status  Gender  \\\n",
       "761                          Head        Married  Female   \n",
       "762                       Husband        Married    Male   \n",
       "763                          None        Married  Female   \n",
       "764                          None        Married    Male   \n",
       "765                          None            NaN    Male   \n",
       "766                          None            NaN  Female   \n",
       "767                          None            NaN    Male   \n",
       "768                          None            NaN    Male   \n",
       "769                          None         Single    Male   \n",
       "770                          None         Single  Female   \n",
       "771                          None         Single    Male   \n",
       "\n",
       "                            Occupation Infirmity   Religion  \n",
       "761           Retired Engineer, mining      None  Christian  \n",
       "762       Retired Designer, multimedia      None  Christian  \n",
       "763  Planning and development surveyor      None       None  \n",
       "764    Commercial/residential surveyor      None       None  \n",
       "765                            Student      None        NaN  \n",
       "766                            Student      None        NaN  \n",
       "767                            Student      None        NaN  \n",
       "768                              Child      None        NaN  \n",
       "769               Electronics engineer      None       None  \n",
       "770       Education officer, community      None  Methodist  \n",
       "771                       Youth worker      None  Christian  "
      ]
     },
     "execution_count": 30,
     "metadata": {},
     "output_type": "execute_result"
    }
   ],
   "source": [
    "give_house_detail(765,df) #seeing the house detail to search if their parents have a religion."
   ]
  },
  {
   "cell_type": "code",
   "execution_count": 31,
   "id": "8978a9e2",
   "metadata": {},
   "outputs": [],
   "source": [
    "#changing it to none since their parents sophie and dominic north have none religion\n",
    "df.loc[765,'Religion']='None'\n",
    "df.loc[766,'Religion']='None'\n",
    "df.loc[767,'Religion']='None'\n",
    "df.loc[768,'Religion']='None'"
   ]
  },
  {
   "cell_type": "code",
   "execution_count": 32,
   "id": "7a2a89be",
   "metadata": {},
   "outputs": [
    {
     "data": {
      "text/html": [
       "<div>\n",
       "<style scoped>\n",
       "    .dataframe tbody tr th:only-of-type {\n",
       "        vertical-align: middle;\n",
       "    }\n",
       "\n",
       "    .dataframe tbody tr th {\n",
       "        vertical-align: top;\n",
       "    }\n",
       "\n",
       "    .dataframe thead th {\n",
       "        text-align: right;\n",
       "    }\n",
       "</style>\n",
       "<table border=\"1\" class=\"dataframe\">\n",
       "  <thead>\n",
       "    <tr style=\"text-align: right;\">\n",
       "      <th></th>\n",
       "      <th>House Number</th>\n",
       "      <th>Street</th>\n",
       "      <th>First Name</th>\n",
       "      <th>Surname</th>\n",
       "      <th>Age</th>\n",
       "      <th>Relationship to Head of House</th>\n",
       "      <th>Marital Status</th>\n",
       "      <th>Gender</th>\n",
       "      <th>Occupation</th>\n",
       "      <th>Infirmity</th>\n",
       "      <th>Religion</th>\n",
       "    </tr>\n",
       "  </thead>\n",
       "  <tbody>\n",
       "    <tr>\n",
       "      <th>8</th>\n",
       "      <td>5</td>\n",
       "      <td>Smith Radial</td>\n",
       "      <td>Kim</td>\n",
       "      <td>Browne</td>\n",
       "      <td>69</td>\n",
       "      <td>Head</td>\n",
       "      <td>Married</td>\n",
       "      <td>Female</td>\n",
       "      <td>Retired Estate manager/land agent</td>\n",
       "      <td>None</td>\n",
       "      <td>Christian</td>\n",
       "    </tr>\n",
       "    <tr>\n",
       "      <th>9</th>\n",
       "      <td>5</td>\n",
       "      <td>Smith Radial</td>\n",
       "      <td>Oliver</td>\n",
       "      <td>Browne</td>\n",
       "      <td>69</td>\n",
       "      <td>Husband</td>\n",
       "      <td>Married</td>\n",
       "      <td>Male</td>\n",
       "      <td>Retired Merchandiser, retail</td>\n",
       "      <td>None</td>\n",
       "      <td>None</td>\n",
       "    </tr>\n",
       "    <tr>\n",
       "      <th>10</th>\n",
       "      <td>5</td>\n",
       "      <td>Smith Radial</td>\n",
       "      <td>Jemma</td>\n",
       "      <td>Hussain</td>\n",
       "      <td>42</td>\n",
       "      <td>None</td>\n",
       "      <td>Married</td>\n",
       "      <td>Female</td>\n",
       "      <td>Press sub</td>\n",
       "      <td>None</td>\n",
       "      <td>Catholic</td>\n",
       "    </tr>\n",
       "    <tr>\n",
       "      <th>11</th>\n",
       "      <td>5</td>\n",
       "      <td>Smith Radial</td>\n",
       "      <td>Terence</td>\n",
       "      <td>Hussain</td>\n",
       "      <td>48</td>\n",
       "      <td>None</td>\n",
       "      <td>Married</td>\n",
       "      <td>Male</td>\n",
       "      <td>Research scientist (medical)</td>\n",
       "      <td>None</td>\n",
       "      <td>Catholic</td>\n",
       "    </tr>\n",
       "    <tr>\n",
       "      <th>12</th>\n",
       "      <td>5</td>\n",
       "      <td>Smith Radial</td>\n",
       "      <td>Mohamed</td>\n",
       "      <td>Hussain</td>\n",
       "      <td>8</td>\n",
       "      <td>None</td>\n",
       "      <td>NaN</td>\n",
       "      <td>Male</td>\n",
       "      <td>Student</td>\n",
       "      <td>None</td>\n",
       "      <td>NaN</td>\n",
       "    </tr>\n",
       "  </tbody>\n",
       "</table>\n",
       "</div>"
      ],
      "text/plain": [
       "    House Number        Street First Name  Surname  Age  \\\n",
       "8              5  Smith Radial        Kim   Browne   69   \n",
       "9              5  Smith Radial     Oliver   Browne   69   \n",
       "10             5  Smith Radial      Jemma  Hussain   42   \n",
       "11             5  Smith Radial    Terence  Hussain   48   \n",
       "12             5  Smith Radial    Mohamed  Hussain    8   \n",
       "\n",
       "   Relationship to Head of House Marital Status  Gender  \\\n",
       "8                           Head        Married  Female   \n",
       "9                        Husband        Married    Male   \n",
       "10                          None        Married  Female   \n",
       "11                          None        Married    Male   \n",
       "12                          None            NaN    Male   \n",
       "\n",
       "                           Occupation Infirmity   Religion  \n",
       "8   Retired Estate manager/land agent      None  Christian  \n",
       "9        Retired Merchandiser, retail      None       None  \n",
       "10                          Press sub      None   Catholic  \n",
       "11       Research scientist (medical)      None   Catholic  \n",
       "12                            Student      None        NaN  "
      ]
     },
     "execution_count": 32,
     "metadata": {},
     "output_type": "execute_result"
    }
   ],
   "source": [
    "give_house_detail(12,df)"
   ]
  },
  {
   "cell_type": "code",
   "execution_count": 33,
   "id": "e3098d7e",
   "metadata": {},
   "outputs": [],
   "source": [
    "df.loc[12,'Religion']='Catholic'"
   ]
  },
  {
   "cell_type": "code",
   "execution_count": 34,
   "id": "6d673eae",
   "metadata": {},
   "outputs": [
    {
     "data": {
      "text/html": [
       "<div>\n",
       "<style scoped>\n",
       "    .dataframe tbody tr th:only-of-type {\n",
       "        vertical-align: middle;\n",
       "    }\n",
       "\n",
       "    .dataframe tbody tr th {\n",
       "        vertical-align: top;\n",
       "    }\n",
       "\n",
       "    .dataframe thead th {\n",
       "        text-align: right;\n",
       "    }\n",
       "</style>\n",
       "<table border=\"1\" class=\"dataframe\">\n",
       "  <thead>\n",
       "    <tr style=\"text-align: right;\">\n",
       "      <th></th>\n",
       "      <th>House Number</th>\n",
       "      <th>Street</th>\n",
       "      <th>First Name</th>\n",
       "      <th>Surname</th>\n",
       "      <th>Age</th>\n",
       "      <th>Relationship to Head of House</th>\n",
       "      <th>Marital Status</th>\n",
       "      <th>Gender</th>\n",
       "      <th>Occupation</th>\n",
       "      <th>Infirmity</th>\n",
       "      <th>Religion</th>\n",
       "    </tr>\n",
       "  </thead>\n",
       "  <tbody>\n",
       "    <tr>\n",
       "      <th>6232</th>\n",
       "      <td>20</td>\n",
       "      <td>Crownbird Road</td>\n",
       "      <td>Gail</td>\n",
       "      <td>Burton</td>\n",
       "      <td>72</td>\n",
       "      <td>Head</td>\n",
       "      <td>Married</td>\n",
       "      <td>Female</td>\n",
       "      <td>Retired Equities trader</td>\n",
       "      <td>None</td>\n",
       "      <td>Christian</td>\n",
       "    </tr>\n",
       "    <tr>\n",
       "      <th>6233</th>\n",
       "      <td>20</td>\n",
       "      <td>Crownbird Road</td>\n",
       "      <td>Denis</td>\n",
       "      <td>Burton</td>\n",
       "      <td>71</td>\n",
       "      <td>Husband</td>\n",
       "      <td>Married</td>\n",
       "      <td>Male</td>\n",
       "      <td>Retired Fast food restaurant manager</td>\n",
       "      <td>None</td>\n",
       "      <td>Christian</td>\n",
       "    </tr>\n",
       "    <tr>\n",
       "      <th>6234</th>\n",
       "      <td>20</td>\n",
       "      <td>Crownbird Road</td>\n",
       "      <td>Liam</td>\n",
       "      <td>Clarke</td>\n",
       "      <td>41</td>\n",
       "      <td>None</td>\n",
       "      <td>Married</td>\n",
       "      <td>Male</td>\n",
       "      <td>Pensions consultant</td>\n",
       "      <td>None</td>\n",
       "      <td>Catholic</td>\n",
       "    </tr>\n",
       "    <tr>\n",
       "      <th>6235</th>\n",
       "      <td>20</td>\n",
       "      <td>Crownbird Road</td>\n",
       "      <td>Charlene</td>\n",
       "      <td>Clarke</td>\n",
       "      <td>38</td>\n",
       "      <td>None</td>\n",
       "      <td>Married</td>\n",
       "      <td>Female</td>\n",
       "      <td>Garment/textile technologist</td>\n",
       "      <td>None</td>\n",
       "      <td>None</td>\n",
       "    </tr>\n",
       "    <tr>\n",
       "      <th>6236</th>\n",
       "      <td>20</td>\n",
       "      <td>Crownbird Road</td>\n",
       "      <td>Ryan</td>\n",
       "      <td>Clarke</td>\n",
       "      <td>4</td>\n",
       "      <td>None</td>\n",
       "      <td>NaN</td>\n",
       "      <td>Male</td>\n",
       "      <td>Child</td>\n",
       "      <td>None</td>\n",
       "      <td>NaN</td>\n",
       "    </tr>\n",
       "  </tbody>\n",
       "</table>\n",
       "</div>"
      ],
      "text/plain": [
       "      House Number          Street First Name Surname  Age  \\\n",
       "6232            20  Crownbird Road       Gail  Burton   72   \n",
       "6233            20  Crownbird Road      Denis  Burton   71   \n",
       "6234            20  Crownbird Road       Liam  Clarke   41   \n",
       "6235            20  Crownbird Road   Charlene  Clarke   38   \n",
       "6236            20  Crownbird Road       Ryan  Clarke    4   \n",
       "\n",
       "     Relationship to Head of House Marital Status  Gender  \\\n",
       "6232                          Head        Married  Female   \n",
       "6233                       Husband        Married    Male   \n",
       "6234                          None        Married    Male   \n",
       "6235                          None        Married  Female   \n",
       "6236                          None            NaN    Male   \n",
       "\n",
       "                                Occupation Infirmity   Religion  \n",
       "6232               Retired Equities trader      None  Christian  \n",
       "6233  Retired Fast food restaurant manager      None  Christian  \n",
       "6234                   Pensions consultant      None   Catholic  \n",
       "6235          Garment/textile technologist      None       None  \n",
       "6236                                 Child      None        NaN  "
      ]
     },
     "execution_count": 34,
     "metadata": {},
     "output_type": "execute_result"
    }
   ],
   "source": [
    "give_house_detail(6236,df)"
   ]
  },
  {
   "cell_type": "code",
   "execution_count": 35,
   "id": "0b0267f9",
   "metadata": {},
   "outputs": [],
   "source": [
    "df.loc[6236,'Religion']='None'"
   ]
  },
  {
   "cell_type": "code",
   "execution_count": 36,
   "id": "c2f1c540",
   "metadata": {},
   "outputs": [
    {
     "data": {
      "text/html": [
       "<div>\n",
       "<style scoped>\n",
       "    .dataframe tbody tr th:only-of-type {\n",
       "        vertical-align: middle;\n",
       "    }\n",
       "\n",
       "    .dataframe tbody tr th {\n",
       "        vertical-align: top;\n",
       "    }\n",
       "\n",
       "    .dataframe thead th {\n",
       "        text-align: right;\n",
       "    }\n",
       "</style>\n",
       "<table border=\"1\" class=\"dataframe\">\n",
       "  <thead>\n",
       "    <tr style=\"text-align: right;\">\n",
       "      <th></th>\n",
       "      <th>House Number</th>\n",
       "      <th>Street</th>\n",
       "      <th>First Name</th>\n",
       "      <th>Surname</th>\n",
       "      <th>Age</th>\n",
       "      <th>Relationship to Head of House</th>\n",
       "      <th>Marital Status</th>\n",
       "      <th>Gender</th>\n",
       "      <th>Occupation</th>\n",
       "      <th>Infirmity</th>\n",
       "      <th>Religion</th>\n",
       "    </tr>\n",
       "  </thead>\n",
       "  <tbody>\n",
       "    <tr>\n",
       "      <th>7376</th>\n",
       "      <td>6</td>\n",
       "      <td>Watts Road</td>\n",
       "      <td>Dominic</td>\n",
       "      <td>Thomas</td>\n",
       "      <td>86</td>\n",
       "      <td>Head</td>\n",
       "      <td>Married</td>\n",
       "      <td>Male</td>\n",
       "      <td>Retired Fitness centre manager</td>\n",
       "      <td>None</td>\n",
       "      <td>None</td>\n",
       "    </tr>\n",
       "    <tr>\n",
       "      <th>7377</th>\n",
       "      <td>6</td>\n",
       "      <td>Watts Road</td>\n",
       "      <td>Margaret</td>\n",
       "      <td>Thomas</td>\n",
       "      <td>84</td>\n",
       "      <td>Wife</td>\n",
       "      <td>Married</td>\n",
       "      <td>Female</td>\n",
       "      <td>Retired Land/geomatics surveyor</td>\n",
       "      <td>None</td>\n",
       "      <td>None</td>\n",
       "    </tr>\n",
       "    <tr>\n",
       "      <th>7378</th>\n",
       "      <td>6</td>\n",
       "      <td>Watts Road</td>\n",
       "      <td>Ashleigh</td>\n",
       "      <td>Morris</td>\n",
       "      <td>22</td>\n",
       "      <td>None</td>\n",
       "      <td>Married</td>\n",
       "      <td>Female</td>\n",
       "      <td>University Student</td>\n",
       "      <td>None</td>\n",
       "      <td>None</td>\n",
       "    </tr>\n",
       "    <tr>\n",
       "      <th>7379</th>\n",
       "      <td>6</td>\n",
       "      <td>Watts Road</td>\n",
       "      <td>Glen</td>\n",
       "      <td>Morris</td>\n",
       "      <td>28</td>\n",
       "      <td>None</td>\n",
       "      <td>Married</td>\n",
       "      <td>Male</td>\n",
       "      <td>Pharmacist, community</td>\n",
       "      <td>None</td>\n",
       "      <td>None</td>\n",
       "    </tr>\n",
       "    <tr>\n",
       "      <th>7380</th>\n",
       "      <td>6</td>\n",
       "      <td>Watts Road</td>\n",
       "      <td>Shaun</td>\n",
       "      <td>Morris</td>\n",
       "      <td>5</td>\n",
       "      <td>None</td>\n",
       "      <td>NaN</td>\n",
       "      <td>Male</td>\n",
       "      <td>Student</td>\n",
       "      <td>None</td>\n",
       "      <td>NaN</td>\n",
       "    </tr>\n",
       "  </tbody>\n",
       "</table>\n",
       "</div>"
      ],
      "text/plain": [
       "      House Number      Street First Name Surname  Age  \\\n",
       "7376             6  Watts Road    Dominic  Thomas   86   \n",
       "7377             6  Watts Road   Margaret  Thomas   84   \n",
       "7378             6  Watts Road   Ashleigh  Morris   22   \n",
       "7379             6  Watts Road       Glen  Morris   28   \n",
       "7380             6  Watts Road      Shaun  Morris    5   \n",
       "\n",
       "     Relationship to Head of House Marital Status  Gender  \\\n",
       "7376                          Head        Married    Male   \n",
       "7377                          Wife        Married  Female   \n",
       "7378                          None        Married  Female   \n",
       "7379                          None        Married    Male   \n",
       "7380                          None            NaN    Male   \n",
       "\n",
       "                           Occupation Infirmity Religion  \n",
       "7376   Retired Fitness centre manager      None     None  \n",
       "7377  Retired Land/geomatics surveyor      None     None  \n",
       "7378               University Student      None     None  \n",
       "7379            Pharmacist, community      None     None  \n",
       "7380                          Student      None      NaN  "
      ]
     },
     "execution_count": 36,
     "metadata": {},
     "output_type": "execute_result"
    }
   ],
   "source": [
    "give_house_detail(7380,df)"
   ]
  },
  {
   "cell_type": "code",
   "execution_count": 37,
   "id": "fa0c0fc4",
   "metadata": {},
   "outputs": [],
   "source": [
    "df.loc[7380,'Religion']='None'"
   ]
  },
  {
   "cell_type": "code",
   "execution_count": 38,
   "id": "5cee00fe",
   "metadata": {},
   "outputs": [
    {
     "data": {
      "text/html": [
       "<div>\n",
       "<style scoped>\n",
       "    .dataframe tbody tr th:only-of-type {\n",
       "        vertical-align: middle;\n",
       "    }\n",
       "\n",
       "    .dataframe tbody tr th {\n",
       "        vertical-align: top;\n",
       "    }\n",
       "\n",
       "    .dataframe thead th {\n",
       "        text-align: right;\n",
       "    }\n",
       "</style>\n",
       "<table border=\"1\" class=\"dataframe\">\n",
       "  <thead>\n",
       "    <tr style=\"text-align: right;\">\n",
       "      <th></th>\n",
       "      <th>House Number</th>\n",
       "      <th>Street</th>\n",
       "      <th>First Name</th>\n",
       "      <th>Surname</th>\n",
       "      <th>Age</th>\n",
       "      <th>Relationship to Head of House</th>\n",
       "      <th>Marital Status</th>\n",
       "      <th>Gender</th>\n",
       "      <th>Occupation</th>\n",
       "      <th>Infirmity</th>\n",
       "      <th>Religion</th>\n",
       "    </tr>\n",
       "  </thead>\n",
       "  <tbody>\n",
       "    <tr>\n",
       "      <th>1580</th>\n",
       "      <td>3</td>\n",
       "      <td>Athollbird Avenue</td>\n",
       "      <td>Jason</td>\n",
       "      <td>Murray-Richards</td>\n",
       "      <td>1</td>\n",
       "      <td>Step-Son</td>\n",
       "      <td>NaN</td>\n",
       "      <td>Male</td>\n",
       "      <td>Child</td>\n",
       "      <td>None</td>\n",
       "      <td>NaN</td>\n",
       "    </tr>\n",
       "    <tr>\n",
       "      <th>1581</th>\n",
       "      <td>3</td>\n",
       "      <td>Athollbird Avenue</td>\n",
       "      <td>Oliver</td>\n",
       "      <td>Murray-Richards</td>\n",
       "      <td>0</td>\n",
       "      <td>Step-Son</td>\n",
       "      <td>NaN</td>\n",
       "      <td>Male</td>\n",
       "      <td>Child</td>\n",
       "      <td>None</td>\n",
       "      <td>NaN</td>\n",
       "    </tr>\n",
       "    <tr>\n",
       "      <th>8805</th>\n",
       "      <td>24</td>\n",
       "      <td>Smith Points</td>\n",
       "      <td>Lynne</td>\n",
       "      <td>Tucker</td>\n",
       "      <td>17</td>\n",
       "      <td>Head</td>\n",
       "      <td>Divorced</td>\n",
       "      <td>Female</td>\n",
       "      <td>Unemployed</td>\n",
       "      <td>None</td>\n",
       "      <td>NaN</td>\n",
       "    </tr>\n",
       "  </tbody>\n",
       "</table>\n",
       "</div>"
      ],
      "text/plain": [
       "      House Number             Street First Name          Surname  Age  \\\n",
       "1580             3  Athollbird Avenue      Jason  Murray-Richards    1   \n",
       "1581             3  Athollbird Avenue     Oliver  Murray-Richards    0   \n",
       "8805            24       Smith Points      Lynne           Tucker   17   \n",
       "\n",
       "     Relationship to Head of House Marital Status  Gender  Occupation  \\\n",
       "1580                      Step-Son            NaN    Male       Child   \n",
       "1581                      Step-Son            NaN    Male       Child   \n",
       "8805                          Head       Divorced  Female  Unemployed   \n",
       "\n",
       "     Infirmity Religion  \n",
       "1580      None      NaN  \n",
       "1581      None      NaN  \n",
       "8805      None      NaN  "
      ]
     },
     "execution_count": 38,
     "metadata": {},
     "output_type": "execute_result"
    }
   ],
   "source": [
    "u=df[df['Religion'].isna()]\n",
    "u=u[u['Age']<18]\n",
    "u"
   ]
  },
  {
   "cell_type": "code",
   "execution_count": 39,
   "id": "24edd2e7",
   "metadata": {},
   "outputs": [],
   "source": [
    "#changing age of lynne tucker to 18 since she is head at 17 which is a faulty data and divorced which is the only data below 18.\n",
    "df.loc[8805,'Age']=18  "
   ]
  },
  {
   "cell_type": "code",
   "execution_count": 40,
   "id": "623d7498",
   "metadata": {},
   "outputs": [
    {
     "data": {
      "text/html": [
       "<div>\n",
       "<style scoped>\n",
       "    .dataframe tbody tr th:only-of-type {\n",
       "        vertical-align: middle;\n",
       "    }\n",
       "\n",
       "    .dataframe tbody tr th {\n",
       "        vertical-align: top;\n",
       "    }\n",
       "\n",
       "    .dataframe thead th {\n",
       "        text-align: right;\n",
       "    }\n",
       "</style>\n",
       "<table border=\"1\" class=\"dataframe\">\n",
       "  <thead>\n",
       "    <tr style=\"text-align: right;\">\n",
       "      <th></th>\n",
       "      <th>House Number</th>\n",
       "      <th>Street</th>\n",
       "      <th>First Name</th>\n",
       "      <th>Surname</th>\n",
       "      <th>Age</th>\n",
       "      <th>Relationship to Head of House</th>\n",
       "      <th>Marital Status</th>\n",
       "      <th>Gender</th>\n",
       "      <th>Occupation</th>\n",
       "      <th>Infirmity</th>\n",
       "      <th>Religion</th>\n",
       "    </tr>\n",
       "  </thead>\n",
       "  <tbody>\n",
       "    <tr>\n",
       "      <th>1579</th>\n",
       "      <td>3</td>\n",
       "      <td>Athollbird Avenue</td>\n",
       "      <td>Amanda</td>\n",
       "      <td>Richards</td>\n",
       "      <td>18</td>\n",
       "      <td>Head</td>\n",
       "      <td>Divorced</td>\n",
       "      <td>Female</td>\n",
       "      <td>Student</td>\n",
       "      <td>None</td>\n",
       "      <td>NaN</td>\n",
       "    </tr>\n",
       "    <tr>\n",
       "      <th>1580</th>\n",
       "      <td>3</td>\n",
       "      <td>Athollbird Avenue</td>\n",
       "      <td>Jason</td>\n",
       "      <td>Murray-Richards</td>\n",
       "      <td>1</td>\n",
       "      <td>Step-Son</td>\n",
       "      <td>NaN</td>\n",
       "      <td>Male</td>\n",
       "      <td>Child</td>\n",
       "      <td>None</td>\n",
       "      <td>NaN</td>\n",
       "    </tr>\n",
       "    <tr>\n",
       "      <th>1581</th>\n",
       "      <td>3</td>\n",
       "      <td>Athollbird Avenue</td>\n",
       "      <td>Oliver</td>\n",
       "      <td>Murray-Richards</td>\n",
       "      <td>0</td>\n",
       "      <td>Step-Son</td>\n",
       "      <td>NaN</td>\n",
       "      <td>Male</td>\n",
       "      <td>Child</td>\n",
       "      <td>None</td>\n",
       "      <td>NaN</td>\n",
       "    </tr>\n",
       "    <tr>\n",
       "      <th>1582</th>\n",
       "      <td>3</td>\n",
       "      <td>Athollbird Avenue</td>\n",
       "      <td>Rachael</td>\n",
       "      <td>Nash</td>\n",
       "      <td>63</td>\n",
       "      <td>Lodger</td>\n",
       "      <td>Single</td>\n",
       "      <td>Female</td>\n",
       "      <td>Building services engineer</td>\n",
       "      <td>None</td>\n",
       "      <td>Methodist</td>\n",
       "    </tr>\n",
       "  </tbody>\n",
       "</table>\n",
       "</div>"
      ],
      "text/plain": [
       "      House Number             Street First Name          Surname  Age  \\\n",
       "1579             3  Athollbird Avenue     Amanda         Richards   18   \n",
       "1580             3  Athollbird Avenue      Jason  Murray-Richards    1   \n",
       "1581             3  Athollbird Avenue     Oliver  Murray-Richards    0   \n",
       "1582             3  Athollbird Avenue    Rachael             Nash   63   \n",
       "\n",
       "     Relationship to Head of House Marital Status  Gender  \\\n",
       "1579                          Head       Divorced  Female   \n",
       "1580                      Step-Son            NaN    Male   \n",
       "1581                      Step-Son            NaN    Male   \n",
       "1582                        Lodger         Single  Female   \n",
       "\n",
       "                      Occupation Infirmity   Religion  \n",
       "1579                     Student      None        NaN  \n",
       "1580                       Child      None        NaN  \n",
       "1581                       Child      None        NaN  \n",
       "1582  Building services engineer      None  Methodist  "
      ]
     },
     "execution_count": 40,
     "metadata": {},
     "output_type": "execute_result"
    }
   ],
   "source": [
    "give_house_detail(1580,df)"
   ]
  },
  {
   "cell_type": "code",
   "execution_count": 41,
   "id": "8b94d5ed",
   "metadata": {},
   "outputs": [],
   "source": [
    "df.loc[1579,'Religion']='None'\n",
    "df.loc[1580,'Religion']='None'\n",
    "df.loc[1581,'Religion']='None'"
   ]
  },
  {
   "cell_type": "code",
   "execution_count": 42,
   "id": "76b69c5c",
   "metadata": {},
   "outputs": [],
   "source": [
    "for i in df[df['Religion'].isna()].index.values:\n",
    "    df.loc[i,'Religion']='None'"
   ]
  },
  {
   "cell_type": "code",
   "execution_count": 43,
   "id": "77bea15c",
   "metadata": {},
   "outputs": [],
   "source": [
    "for i in df[df['Religion']==' '].index.values:\n",
    "    df.loc[i,'Religion']='None'"
   ]
  },
  {
   "cell_type": "code",
   "execution_count": 44,
   "id": "ea1c130a",
   "metadata": {},
   "outputs": [],
   "source": [
    "for i in df[df['Religion']=='Undecided'].index.values:\n",
    "    df.loc[i,'Religion']='None'"
   ]
  },
  {
   "cell_type": "code",
   "execution_count": 45,
   "id": "f1073ea4",
   "metadata": {},
   "outputs": [],
   "source": [
    "for i in df[df['Religion']=='Private'].index.values:\n",
    "    df.loc[i,'Religion']='None'"
   ]
  },
  {
   "cell_type": "code",
   "execution_count": 46,
   "id": "ae582b1b",
   "metadata": {},
   "outputs": [],
   "source": [
    "for i in df[df['Religion']=='Nope'].index.values:\n",
    "    df.loc[i,'Religion']='None'"
   ]
  },
  {
   "cell_type": "code",
   "execution_count": 47,
   "id": "10ccc281",
   "metadata": {},
   "outputs": [
    {
     "data": {
      "text/html": [
       "<div>\n",
       "<style scoped>\n",
       "    .dataframe tbody tr th:only-of-type {\n",
       "        vertical-align: middle;\n",
       "    }\n",
       "\n",
       "    .dataframe tbody tr th {\n",
       "        vertical-align: top;\n",
       "    }\n",
       "\n",
       "    .dataframe thead th {\n",
       "        text-align: right;\n",
       "    }\n",
       "</style>\n",
       "<table border=\"1\" class=\"dataframe\">\n",
       "  <thead>\n",
       "    <tr style=\"text-align: right;\">\n",
       "      <th></th>\n",
       "      <th>House Number</th>\n",
       "      <th>Street</th>\n",
       "      <th>First Name</th>\n",
       "      <th>Surname</th>\n",
       "      <th>Age</th>\n",
       "      <th>Relationship to Head of House</th>\n",
       "      <th>Marital Status</th>\n",
       "      <th>Gender</th>\n",
       "      <th>Occupation</th>\n",
       "      <th>Infirmity</th>\n",
       "      <th>Religion</th>\n",
       "    </tr>\n",
       "  </thead>\n",
       "  <tbody>\n",
       "    <tr>\n",
       "      <th>2496</th>\n",
       "      <td>32</td>\n",
       "      <td>Mustard Roads</td>\n",
       "      <td>Jemma</td>\n",
       "      <td></td>\n",
       "      <td>14</td>\n",
       "      <td>Daughter</td>\n",
       "      <td>NaN</td>\n",
       "      <td>Female</td>\n",
       "      <td>Student</td>\n",
       "      <td>None</td>\n",
       "      <td>Catholic</td>\n",
       "    </tr>\n",
       "  </tbody>\n",
       "</table>\n",
       "</div>"
      ],
      "text/plain": [
       "      House Number         Street First Name Surname  Age  \\\n",
       "2496            32  Mustard Roads      Jemma           14   \n",
       "\n",
       "     Relationship to Head of House Marital Status  Gender Occupation  \\\n",
       "2496                      Daughter            NaN  Female    Student   \n",
       "\n",
       "     Infirmity  Religion  \n",
       "2496      None  Catholic  "
      ]
     },
     "execution_count": 47,
     "metadata": {},
     "output_type": "execute_result"
    }
   ],
   "source": [
    "df[df['Surname'].str.isspace()]"
   ]
  },
  {
   "cell_type": "code",
   "execution_count": 48,
   "id": "e89ba735",
   "metadata": {},
   "outputs": [
    {
     "data": {
      "text/html": [
       "<div>\n",
       "<style scoped>\n",
       "    .dataframe tbody tr th:only-of-type {\n",
       "        vertical-align: middle;\n",
       "    }\n",
       "\n",
       "    .dataframe tbody tr th {\n",
       "        vertical-align: top;\n",
       "    }\n",
       "\n",
       "    .dataframe thead th {\n",
       "        text-align: right;\n",
       "    }\n",
       "</style>\n",
       "<table border=\"1\" class=\"dataframe\">\n",
       "  <thead>\n",
       "    <tr style=\"text-align: right;\">\n",
       "      <th></th>\n",
       "      <th>House Number</th>\n",
       "      <th>Street</th>\n",
       "      <th>First Name</th>\n",
       "      <th>Surname</th>\n",
       "      <th>Age</th>\n",
       "      <th>Relationship to Head of House</th>\n",
       "      <th>Marital Status</th>\n",
       "      <th>Gender</th>\n",
       "      <th>Occupation</th>\n",
       "      <th>Infirmity</th>\n",
       "      <th>Religion</th>\n",
       "    </tr>\n",
       "  </thead>\n",
       "  <tbody>\n",
       "    <tr>\n",
       "      <th>2494</th>\n",
       "      <td>32</td>\n",
       "      <td>Mustard Roads</td>\n",
       "      <td>Janet</td>\n",
       "      <td>Robinson</td>\n",
       "      <td>36</td>\n",
       "      <td>Head</td>\n",
       "      <td>Married</td>\n",
       "      <td>Female</td>\n",
       "      <td>Surveyor, commercial/residential</td>\n",
       "      <td>None</td>\n",
       "      <td>Catholic</td>\n",
       "    </tr>\n",
       "    <tr>\n",
       "      <th>2495</th>\n",
       "      <td>32</td>\n",
       "      <td>Mustard Roads</td>\n",
       "      <td>John</td>\n",
       "      <td>Robinson</td>\n",
       "      <td>39</td>\n",
       "      <td>Husband</td>\n",
       "      <td>Married</td>\n",
       "      <td>Male</td>\n",
       "      <td>Textile designer</td>\n",
       "      <td>None</td>\n",
       "      <td>Catholic</td>\n",
       "    </tr>\n",
       "    <tr>\n",
       "      <th>2496</th>\n",
       "      <td>32</td>\n",
       "      <td>Mustard Roads</td>\n",
       "      <td>Jemma</td>\n",
       "      <td></td>\n",
       "      <td>14</td>\n",
       "      <td>Daughter</td>\n",
       "      <td>NaN</td>\n",
       "      <td>Female</td>\n",
       "      <td>Student</td>\n",
       "      <td>None</td>\n",
       "      <td>Catholic</td>\n",
       "    </tr>\n",
       "    <tr>\n",
       "      <th>2497</th>\n",
       "      <td>32</td>\n",
       "      <td>Mustard Roads</td>\n",
       "      <td>Jodie</td>\n",
       "      <td>Robinson</td>\n",
       "      <td>10</td>\n",
       "      <td>Daughter</td>\n",
       "      <td>NaN</td>\n",
       "      <td>Female</td>\n",
       "      <td>Student</td>\n",
       "      <td>None</td>\n",
       "      <td>Catholic</td>\n",
       "    </tr>\n",
       "  </tbody>\n",
       "</table>\n",
       "</div>"
      ],
      "text/plain": [
       "      House Number         Street First Name   Surname  Age  \\\n",
       "2494            32  Mustard Roads      Janet  Robinson   36   \n",
       "2495            32  Mustard Roads       John  Robinson   39   \n",
       "2496            32  Mustard Roads      Jemma             14   \n",
       "2497            32  Mustard Roads      Jodie  Robinson   10   \n",
       "\n",
       "     Relationship to Head of House Marital Status  Gender  \\\n",
       "2494                          Head        Married  Female   \n",
       "2495                       Husband        Married    Male   \n",
       "2496                      Daughter            NaN  Female   \n",
       "2497                      Daughter            NaN  Female   \n",
       "\n",
       "                            Occupation Infirmity  Religion  \n",
       "2494  Surveyor, commercial/residential      None  Catholic  \n",
       "2495                  Textile designer      None  Catholic  \n",
       "2496                           Student      None  Catholic  \n",
       "2497                           Student      None  Catholic  "
      ]
     },
     "execution_count": 48,
     "metadata": {},
     "output_type": "execute_result"
    }
   ],
   "source": [
    "give_house_detail(2496,df)"
   ]
  },
  {
   "cell_type": "code",
   "execution_count": 49,
   "id": "fef0e3b7",
   "metadata": {},
   "outputs": [],
   "source": [
    "df.loc[2496,'Surname']='Robinson' #changed teh surname looking at the house detail."
   ]
  },
  {
   "cell_type": "markdown",
   "id": "8a551ba3",
   "metadata": {},
   "source": [
    "## Cleaning Marital Status Column"
   ]
  },
  {
   "cell_type": "code",
   "execution_count": 50,
   "id": "f035bb08",
   "metadata": {},
   "outputs": [
    {
     "data": {
      "text/plain": [
       "array(['Widowed', 'Single', 'Divorced', nan, 'Married'], dtype=object)"
      ]
     },
     "execution_count": 50,
     "metadata": {},
     "output_type": "execute_result"
    }
   ],
   "source": [
    "df['Marital Status'].unique()"
   ]
  },
  {
   "cell_type": "code",
   "execution_count": 51,
   "id": "a534f48a",
   "metadata": {},
   "outputs": [
    {
     "data": {
      "image/png": "[encoded data removed]",
      "text/plain": [
       "<Figure size 432x288 with 1 Axes>"
      ]
     },
     "metadata": {
      "needs_background": "light"
     },
     "output_type": "display_data"
    }
   ],
   "source": [
    "#checking the distribution of nan values in our dataset to approach the solution better.\n",
    "nan_marital=give_age_adult_pyramid(df[df['Marital Status'].isna()],'NaN Marital Status')"
   ]
  },
  {
   "cell_type": "code",
   "execution_count": 52,
   "id": "4c146375",
   "metadata": {},
   "outputs": [
    {
     "data": {
      "image/png": "[encoded data removed]",
      "text/plain": [
       "<Figure size 432x288 with 1 Axes>"
      ]
     },
     "metadata": {
      "needs_background": "light"
     },
     "output_type": "display_data"
    }
   ],
   "source": [
    "married=give_age_adult_pyramid(df[df['Marital Status']=='Married'],'Married Marital Status')\n"
   ]
  },
  {
   "cell_type": "code",
   "execution_count": 53,
   "id": "b46d3aa0",
   "metadata": {},
   "outputs": [
    {
     "data": {
      "image/png": "[encoded data removed]",
      "text/plain": [
       "<Figure size 432x288 with 1 Axes>"
      ]
     },
     "metadata": {
      "needs_background": "light"
     },
     "output_type": "display_data"
    }
   ],
   "source": [
    "single=give_age_adult_pyramid(df[df['Marital Status']=='Single'],'Single Marital Status')"
   ]
  },
  {
   "cell_type": "code",
   "execution_count": 54,
   "id": "20792cc7",
   "metadata": {},
   "outputs": [],
   "source": [
    "#converting the nan values to 'N/A'\n",
    "for i in df[df['Marital Status'].isna()].index.values:\n",
    "    df.loc[i,'Marital Status']='N/A'"
   ]
  },
  {
   "cell_type": "code",
   "execution_count": 55,
   "id": "83a8b932",
   "metadata": {},
   "outputs": [
    {
     "data": {
      "text/html": [
       "<div>\n",
       "<style scoped>\n",
       "    .dataframe tbody tr th:only-of-type {\n",
       "        vertical-align: middle;\n",
       "    }\n",
       "\n",
       "    .dataframe tbody tr th {\n",
       "        vertical-align: top;\n",
       "    }\n",
       "\n",
       "    .dataframe thead th {\n",
       "        text-align: right;\n",
       "    }\n",
       "</style>\n",
       "<table border=\"1\" class=\"dataframe\">\n",
       "  <thead>\n",
       "    <tr style=\"text-align: right;\">\n",
       "      <th></th>\n",
       "      <th>House Number</th>\n",
       "      <th>Street</th>\n",
       "      <th>First Name</th>\n",
       "      <th>Surname</th>\n",
       "      <th>Age</th>\n",
       "      <th>Relationship to Head of House</th>\n",
       "      <th>Marital Status</th>\n",
       "      <th>Gender</th>\n",
       "      <th>Occupation</th>\n",
       "      <th>Infirmity</th>\n",
       "      <th>Religion</th>\n",
       "    </tr>\n",
       "  </thead>\n",
       "  <tbody>\n",
       "    <tr>\n",
       "      <th>2156</th>\n",
       "      <td>58</td>\n",
       "      <td>Conifer Walks</td>\n",
       "      <td>Lynn</td>\n",
       "      <td>Cunningham</td>\n",
       "      <td>55</td>\n",
       "      <td>Head</td>\n",
       "      <td>Married</td>\n",
       "      <td>Female</td>\n",
       "      <td></td>\n",
       "      <td>None</td>\n",
       "      <td>Catholic</td>\n",
       "    </tr>\n",
       "  </tbody>\n",
       "</table>\n",
       "</div>"
      ],
      "text/plain": [
       "      House Number         Street First Name     Surname  Age  \\\n",
       "2156            58  Conifer Walks       Lynn  Cunningham   55   \n",
       "\n",
       "     Relationship to Head of House Marital Status  Gender Occupation  \\\n",
       "2156                          Head        Married  Female              \n",
       "\n",
       "     Infirmity  Religion  \n",
       "2156      None  Catholic  "
      ]
     },
     "execution_count": 55,
     "metadata": {},
     "output_type": "execute_result"
    }
   ],
   "source": [
    "df[df['Occupation'].str.isspace()]"
   ]
  },
  {
   "cell_type": "code",
   "execution_count": 56,
   "id": "2ebc4589",
   "metadata": {},
   "outputs": [],
   "source": [
    "df.loc[2156,'Occupation']='Unemployed'"
   ]
  },
  {
   "cell_type": "code",
   "execution_count": 57,
   "id": "b6c88add",
   "metadata": {},
   "outputs": [
    {
     "data": {
      "text/plain": [
       "array(['None', ' ', 'Deaf', 'Mental Disability', 'Unknown Infection',\n",
       "       'Disabled', 'Physical Disability', 'Blind'], dtype=object)"
      ]
     },
     "execution_count": 57,
     "metadata": {},
     "output_type": "execute_result"
    }
   ],
   "source": [
    "df['Infirmity'].unique()"
   ]
  },
  {
   "cell_type": "code",
   "execution_count": 58,
   "id": "3703b12f",
   "metadata": {},
   "outputs": [],
   "source": [
    "for i in df[df['Infirmity']==' '].index.values:\n",
    "    df.loc[i,'Infirmity']='None'"
   ]
  },
  {
   "cell_type": "code",
   "execution_count": 59,
   "id": "1c1e31cf",
   "metadata": {},
   "outputs": [
    {
     "data": {
      "text/plain": [
       "array(['Female', 'Male'], dtype=object)"
      ]
     },
     "execution_count": 59,
     "metadata": {},
     "output_type": "execute_result"
    }
   ],
   "source": [
    "df['Gender'].unique()"
   ]
  },
  {
   "cell_type": "code",
   "execution_count": 60,
   "id": "52d783af",
   "metadata": {},
   "outputs": [
    {
     "data": {
      "image/png": "[encoded data removed]",
      "text/plain": [
       "<Figure size 432x288 with 1 Axes>"
      ]
     },
     "metadata": {
      "needs_background": "light"
     },
     "output_type": "display_data"
    }
   ],
   "source": [
    "none_religion=give_age_adult_pyramid(df[df['Religion']=='None'],'none_religion Status')\n",
    "none_religion.savefig('none_religion.png')"
   ]
  },
  {
   "cell_type": "code",
   "execution_count": 61,
   "id": "3f01f845",
   "metadata": {},
   "outputs": [],
   "source": [
    "#this fuction gives the percentage graph within that age range not percentage of net. This helps in ananlysing the data age wise better.\n",
    "def percentage_pyramid(v,df,title): #v is the subset-dataframe , df is the dataframe on whose basis percentage is to be calculated.\n",
    "    male_age=[]\n",
    "    female_age=[]\n",
    "    for i in range(100,-1,-10):\n",
    "        if i==20:\n",
    "            i=i-2\n",
    "        male_age.append(len(df[df['Gender']=='Male'][df[df['Gender']=='Male']['Age']>=i])-sum(male_age))\n",
    "        female_age.append(len(df[df['Gender']=='Female'][df[df['Gender']=='Female']['Age']>=i])-sum(female_age))\n",
    "    male_agev=[]\n",
    "    female_agev=[]\n",
    "    for i in range(100,-1,-10):\n",
    "        if i==20:\n",
    "            i=i-2\n",
    "        male_agev.append(len(v[v['Gender']=='Male'][v[v['Gender']=='Male']['Age']>=i])-sum(male_agev))\n",
    "        female_agev.append(len(v[v['Gender']=='Female'][v[v['Gender']=='Female']['Age']>=i])-sum(female_agev))\n",
    "    perfem=[]\n",
    "    permle=[]\n",
    "    for i in range(len(male_age)):\n",
    "        if male_age[i]==0:\n",
    "            permle.append(0)\n",
    "        else:\n",
    "            permle.append((male_agev[i]/male_age[i])*100)\n",
    "        if female_age[i]==0:\n",
    "            perfem.append(0)\n",
    "        else:\n",
    "            perfem.append((female_agev[i]/female_age[i])*100)\n",
    "    permle = [i * -1 for i in permle]\n",
    "    AgeClass = ['100+', '90-99', '80-89', '70-79', '60-69', '50-59', '40-49', '30-39', '18-29', '10-17', '0-9']\n",
    "\n",
    "    age_p = pd.DataFrame({'Age': ['100+', '90-99', '80-89', '70-79', '60-69', '50-59', '40-49',\n",
    "    '30-39', '18-29', '10-17', '0-9'],\n",
    "     'Male': permle,\n",
    "     'Female': perfem})\n",
    "    r = random.random()\n",
    "    b = random.random()\n",
    "    g = random.random()\n",
    "    age_pyramid = sns.barplot(x='Male', y='Age', data=age_p, order=AgeClass,\n",
    "    color=(r,g,b), label='Male')\n",
    "    r = random.random()\n",
    "    b = random.random()\n",
    "    g = random.random()\n",
    "    age_pyramid = sns.barplot(x='Female', y='Age', data=age_p, order=AgeClass,\n",
    "    color=(r,g,b), label='Female')\n",
    "    age_pyramid.legend()\n",
    "    age_pyramid.set(xlabel=\"Percentage Count\", ylabel=\"Age-Group\", title = \"{} Age Pyramid\".format(title))\n",
    "    return age_pyramid.get_figure()"
   ]
  },
  {
   "cell_type": "markdown",
   "id": "185bd6ec",
   "metadata": {},
   "source": [
    "## This function above generates the graph of the percentage of divorced people who are the head of the house.\n",
    "\n",
    "### Showing that there are more female percentage of divorced heads than male married heads.\n",
    "#### for eg below it shows 75 % of the divorced females of age group 40-49 are head of a house."
   ]
  },
  {
   "cell_type": "code",
   "execution_count": 62,
   "id": "13e54fc8",
   "metadata": {},
   "outputs": [
    {
     "data": {
      "image/png": "[encoded data removed]",
      "text/plain": [
       "<Figure size 432x288 with 1 Axes>"
      ]
     },
     "metadata": {
      "needs_background": "light"
     },
     "output_type": "display_data"
    }
   ],
   "source": [
    "c=df[df['Marital Status']=='Divorced']\n",
    "k=percentage_pyramid(c[c['Relationship to Head of House']=='Head'],c,'Divorced Head Of House')\n",
    "k.savefig('Divorced Head Of House.png')"
   ]
  },
  {
   "cell_type": "code",
   "execution_count": 63,
   "id": "8056f633",
   "metadata": {},
   "outputs": [
    {
     "data": {
      "image/png": "[encoded data removed]",
      "text/plain": [
       "<Figure size 432x288 with 1 Axes>"
      ]
     },
     "metadata": {
      "needs_background": "light"
     },
     "output_type": "display_data"
    }
   ],
   "source": [
    "none_rel_per=percentage_pyramid(df[df['Religion']=='None'],df,'none_religion Status')\n",
    "none_rel_per.savefig('nonerel.png')"
   ]
  },
  {
   "cell_type": "markdown",
   "id": "d0e44bc6",
   "metadata": {},
   "source": [
    "## Creating a new column 'Emplyment Status'"
   ]
  },
  {
   "cell_type": "code",
   "execution_count": 64,
   "id": "03b9f2af",
   "metadata": {},
   "outputs": [],
   "source": [
    "r=df[df['Occupation']=='Unemployed']\n",
    "x=r[r['Age']>64]"
   ]
  },
  {
   "cell_type": "code",
   "execution_count": 65,
   "id": "56ff66de",
   "metadata": {},
   "outputs": [],
   "source": [
    "for i in x.index.values:\n",
    "    df.loc[i,'Employment Status']='Retired'\n",
    "    df.loc[i,'Occupation']='Retired Unemployed'"
   ]
  },
  {
   "cell_type": "code",
   "execution_count": 66,
   "id": "29b532fa",
   "metadata": {},
   "outputs": [],
   "source": [
    "r=df[df['Occupation']=='Unemployed']\n",
    "for i in r.index.values:\n",
    "    df.loc[i,'Employment Status']='Unemployed'"
   ]
  },
  {
   "cell_type": "code",
   "execution_count": 67,
   "id": "586dd8ba",
   "metadata": {},
   "outputs": [],
   "source": [
    "r=df[df['Occupation']=='Child']\n",
    "for i in r.index.values:\n",
    "    df.loc[i,'Employment Status']='Child'"
   ]
  },
  {
   "cell_type": "code",
   "execution_count": 68,
   "id": "079d5f68",
   "metadata": {},
   "outputs": [],
   "source": [
    "r=df[df['Occupation']=='Student']\n",
    "for i in r.index.values:\n",
    "    df.loc[i,'Employment Status']='Student'"
   ]
  },
  {
   "cell_type": "code",
   "execution_count": 69,
   "id": "66773fd6",
   "metadata": {},
   "outputs": [],
   "source": [
    "r=df[df['Occupation']=='University Student']\n",
    "for i in r.index.values:\n",
    "    df.loc[i,'Employment Status']='Student'"
   ]
  },
  {
   "cell_type": "code",
   "execution_count": 70,
   "id": "28dfb3fa",
   "metadata": {},
   "outputs": [],
   "source": [
    "r=df[df['Occupation'].str.find('Retired')==0]\n",
    "for i in r.index.values:\n",
    "    df.loc[i,'Employment Status']='Retired'"
   ]
  },
  {
   "cell_type": "code",
   "execution_count": 71,
   "id": "a2308402",
   "metadata": {},
   "outputs": [],
   "source": [
    "df['Employment Status'].fillna('Employed', inplace=True)"
   ]
  },
  {
   "cell_type": "code",
   "execution_count": 72,
   "id": "6eb9a8c5",
   "metadata": {},
   "outputs": [
    {
     "name": "stdout",
     "output_type": "stream",
     "text": [
      "<class 'pandas.core.frame.DataFrame'>\n",
      "RangeIndex: 10610 entries, 0 to 10609\n",
      "Data columns (total 12 columns):\n",
      " #   Column                         Non-Null Count  Dtype \n",
      "---  ------                         --------------  ----- \n",
      " 0   House Number                   10610 non-null  int64 \n",
      " 1   Street                         10610 non-null  object\n",
      " 2   First Name                     10610 non-null  object\n",
      " 3   Surname                        10610 non-null  object\n",
      " 4   Age                            10610 non-null  int64 \n",
      " 5   Relationship to Head of House  10610 non-null  object\n",
      " 6   Marital Status                 10610 non-null  object\n",
      " 7   Gender                         10610 non-null  object\n",
      " 8   Occupation                     10610 non-null  object\n",
      " 9   Infirmity                      10610 non-null  object\n",
      " 10  Religion                       10610 non-null  object\n",
      " 11  Employment Status              10610 non-null  object\n",
      "dtypes: int64(2), object(10)\n",
      "memory usage: 994.8+ KB\n"
     ]
    }
   ],
   "source": [
    "df.info()"
   ]
  },
  {
   "cell_type": "code",
   "execution_count": 73,
   "id": "f2db27f4",
   "metadata": {},
   "outputs": [
    {
     "data": {
      "text/plain": [
       "<seaborn.axisgrid.FacetGrid at 0x170ba30ebe0>"
      ]
     },
     "execution_count": 73,
     "metadata": {},
     "output_type": "execute_result"
    },
    {
     "data": {
      "image/png": "[encoded data removed]",
      "text/plain": [
       "<Figure size 360x360 with 1 Axes>"
      ]
     },
     "metadata": {
      "needs_background": "light"
     },
     "output_type": "display_data"
    }
   ],
   "source": [
    "sns.displot(df,x='Employment Status')\n"
   ]
  },
  {
   "cell_type": "code",
   "execution_count": 74,
   "id": "fbfa6b18",
   "metadata": {},
   "outputs": [
    {
     "data": {
      "text/html": [
       "<div>\n",
       "<style scoped>\n",
       "    .dataframe tbody tr th:only-of-type {\n",
       "        vertical-align: middle;\n",
       "    }\n",
       "\n",
       "    .dataframe tbody tr th {\n",
       "        vertical-align: top;\n",
       "    }\n",
       "\n",
       "    .dataframe thead tr th {\n",
       "        text-align: left;\n",
       "    }\n",
       "\n",
       "    .dataframe thead tr:last-of-type th {\n",
       "        text-align: right;\n",
       "    }\n",
       "</style>\n",
       "<table border=\"1\" class=\"dataframe\">\n",
       "  <thead>\n",
       "    <tr>\n",
       "      <th></th>\n",
       "      <th colspan=\"8\" halign=\"left\">Age</th>\n",
       "    </tr>\n",
       "    <tr>\n",
       "      <th></th>\n",
       "      <th>count</th>\n",
       "      <th>mean</th>\n",
       "      <th>std</th>\n",
       "      <th>min</th>\n",
       "      <th>25%</th>\n",
       "      <th>50%</th>\n",
       "      <th>75%</th>\n",
       "      <th>max</th>\n",
       "    </tr>\n",
       "    <tr>\n",
       "      <th>Marital Status</th>\n",
       "      <th></th>\n",
       "      <th></th>\n",
       "      <th></th>\n",
       "      <th></th>\n",
       "      <th></th>\n",
       "      <th></th>\n",
       "      <th></th>\n",
       "      <th></th>\n",
       "    </tr>\n",
       "  </thead>\n",
       "  <tbody>\n",
       "    <tr>\n",
       "      <th>Divorced</th>\n",
       "      <td>1004.0</td>\n",
       "      <td>41.772908</td>\n",
       "      <td>16.487471</td>\n",
       "      <td>18.0</td>\n",
       "      <td>29.0</td>\n",
       "      <td>39.0</td>\n",
       "      <td>52.0</td>\n",
       "      <td>96.0</td>\n",
       "    </tr>\n",
       "    <tr>\n",
       "      <th>Married</th>\n",
       "      <td>2924.0</td>\n",
       "      <td>50.737346</td>\n",
       "      <td>16.687610</td>\n",
       "      <td>18.0</td>\n",
       "      <td>38.0</td>\n",
       "      <td>49.0</td>\n",
       "      <td>63.0</td>\n",
       "      <td>112.0</td>\n",
       "    </tr>\n",
       "    <tr>\n",
       "      <th>N/A</th>\n",
       "      <td>2615.0</td>\n",
       "      <td>9.007648</td>\n",
       "      <td>5.082933</td>\n",
       "      <td>0.0</td>\n",
       "      <td>5.0</td>\n",
       "      <td>9.0</td>\n",
       "      <td>13.0</td>\n",
       "      <td>17.0</td>\n",
       "    </tr>\n",
       "    <tr>\n",
       "      <th>Single</th>\n",
       "      <td>3680.0</td>\n",
       "      <td>37.557065</td>\n",
       "      <td>14.030178</td>\n",
       "      <td>18.0</td>\n",
       "      <td>26.0</td>\n",
       "      <td>36.0</td>\n",
       "      <td>48.0</td>\n",
       "      <td>91.0</td>\n",
       "    </tr>\n",
       "    <tr>\n",
       "      <th>Widowed</th>\n",
       "      <td>387.0</td>\n",
       "      <td>64.118863</td>\n",
       "      <td>19.357191</td>\n",
       "      <td>18.0</td>\n",
       "      <td>53.0</td>\n",
       "      <td>69.0</td>\n",
       "      <td>78.0</td>\n",
       "      <td>103.0</td>\n",
       "    </tr>\n",
       "  </tbody>\n",
       "</table>\n",
       "</div>"
      ],
      "text/plain": [
       "                   Age                                                     \n",
       "                 count       mean        std   min   25%   50%   75%    max\n",
       "Marital Status                                                             \n",
       "Divorced        1004.0  41.772908  16.487471  18.0  29.0  39.0  52.0   96.0\n",
       "Married         2924.0  50.737346  16.687610  18.0  38.0  49.0  63.0  112.0\n",
       "N/A             2615.0   9.007648   5.082933   0.0   5.0   9.0  13.0   17.0\n",
       "Single          3680.0  37.557065  14.030178  18.0  26.0  36.0  48.0   91.0\n",
       "Widowed          387.0  64.118863  19.357191  18.0  53.0  69.0  78.0  103.0"
      ]
     },
     "execution_count": 74,
     "metadata": {},
     "output_type": "execute_result"
    }
   ],
   "source": [
    "df.drop('House Number', axis=1).groupby(by=['Marital Status']).describe()"
   ]
  },
  {
   "cell_type": "code",
   "execution_count": 75,
   "id": "6c396527",
   "metadata": {},
   "outputs": [
    {
     "data": {
      "image/png": "[encoded data removed]",
      "text/plain": [
       "<Figure size 465.75x360 with 1 Axes>"
      ]
     },
     "metadata": {
      "needs_background": "light"
     },
     "output_type": "display_data"
    }
   ],
   "source": [
    "k=sns.displot(df[df['Relationship to Head of House']=='Lodger'],x='Marital Status',hue='Employment Status')\n",
    "k.fig.suptitle('Lodger Classification')\n",
    "k.savefig('Lodger Employment Status')"
   ]
  },
  {
   "cell_type": "code",
   "execution_count": 76,
   "id": "1e512302",
   "metadata": {},
   "outputs": [
    {
     "data": {
      "image/png": "[encoded data removed]",
      "text/plain": [
       "<Figure size 465.75x360 with 1 Axes>"
      ]
     },
     "metadata": {
      "needs_background": "light"
     },
     "output_type": "display_data"
    }
   ],
   "source": [
    "k=sns.displot(df[df['Relationship to Head of House']=='Visitor'],x='Marital Status',hue='Employment Status')\n",
    "k.fig.suptitle('Visitor Classification')\n",
    "k.savefig('Visitor Employment Status')"
   ]
  },
  {
   "cell_type": "code",
   "execution_count": 77,
   "id": "6bd77a81",
   "metadata": {},
   "outputs": [],
   "source": [
    "#this function counts the size of a household on the basis of the condition given appled to head of house in cases.\n",
    " #mris is the condition of a column, header is the dataframe header to which the condition belongs to,\n",
    "    #d id the dataframe whose household size is to be calculated\n",
    "def give_household_size(mris,header,d):\n",
    "    arr=[]\n",
    "    k=d[d[header]==mris]\n",
    "    if header !='Infirmity' and header !='Relationship to Head of House' and mris !='Child': #just to calculate any house with that person living in like a child in a household. \n",
    "        k=k[k['Relationship to Head of House']=='Head'] #it calculates the head count of that condition.\n",
    "    groupt=k.groupby(['House Number','Street'])\n",
    "    m=groupt.groups.keys()\n",
    "    for i in m:       \n",
    "        arr.append(len(df.iloc[group.groups[i]]))\n",
    "    are=np.unique(arr, return_counts=True)\n",
    "    plt.plot(are[0],are[1],label=mris,marker='o',linewidth=3, markersize=5)    \n",
    "    plt.xlim([0,10])\n",
    "    plt.xlabel('Size Of Households')\n",
    "    plt.ylabel('Count Of Households')\n",
    "    plt.legend()\n",
    "    plt.show\n",
    "    plt.savefig('{} Household Size'.format(header))"
   ]
  },
  {
   "cell_type": "code",
   "execution_count": 78,
   "id": "d5b64f7f",
   "metadata": {},
   "outputs": [],
   "source": [
    "def  give_household_size_grph(header,df):\n",
    "    for i in df[header].unique():\n",
    "        give_household_size(i,header,df)"
   ]
  },
  {
   "cell_type": "code",
   "execution_count": 79,
   "id": "189fd46c",
   "metadata": {},
   "outputs": [
    {
     "data": {
      "image/png": "[encoded data removed]",
      "text/plain": [
       "<Figure size 432x288 with 1 Axes>"
      ]
     },
     "metadata": {
      "needs_background": "light"
     },
     "output_type": "display_data"
    }
   ],
   "source": [
    "k=give_household_size_grph('Marital Status',df) #gives the graph of count of household vs the size of household where head is single married widowed etc."
   ]
  },
  {
   "cell_type": "code",
   "execution_count": 80,
   "id": "2535c331",
   "metadata": {},
   "outputs": [
    {
     "data": {
      "image/png": "[encoded data removed]",
      "text/plain": [
       "<Figure size 432x288 with 1 Axes>"
      ]
     },
     "metadata": {
      "needs_background": "light"
     },
     "output_type": "display_data"
    }
   ],
   "source": [
    "give_household_size_grph('Religion',df) "
   ]
  },
  {
   "cell_type": "code",
   "execution_count": 81,
   "id": "ecc054b6",
   "metadata": {},
   "outputs": [
    {
     "data": {
      "image/png": "[encoded data removed]",
      "text/plain": [
       "<Figure size 432x288 with 1 Axes>"
      ]
     },
     "metadata": {
      "needs_background": "light"
     },
     "output_type": "display_data"
    }
   ],
   "source": [
    "give_household_size_grph('Employment Status',df)"
   ]
  },
  {
   "cell_type": "code",
   "execution_count": 82,
   "id": "e9ff21d2",
   "metadata": {},
   "outputs": [
    {
     "data": {
      "image/png": "[encoded data removed]",
      "text/plain": [
       "<Figure size 432x288 with 1 Axes>"
      ]
     },
     "metadata": {
      "needs_background": "light"
     },
     "output_type": "display_data"
    }
   ],
   "source": [
    "#for i in df['Marital Status'].unique():\n",
    "give_household_size('Lodger','Relationship to Head of House',df) #household size where a lodger is present."
   ]
  },
  {
   "cell_type": "code",
   "execution_count": 83,
   "id": "d7aa9517",
   "metadata": {},
   "outputs": [
    {
     "data": {
      "image/png": "[encoded data removed]",
      "text/plain": [
       "<Figure size 432x288 with 1 Axes>"
      ]
     },
     "metadata": {
      "needs_background": "light"
     },
     "output_type": "display_data"
    }
   ],
   "source": [
    "give_household_size('Head','Relationship to Head of House',df) #general household size."
   ]
  },
  {
   "cell_type": "code",
   "execution_count": 84,
   "id": "cb86bf7c",
   "metadata": {
    "scrolled": true
   },
   "outputs": [
    {
     "data": {
      "image/png": "[encoded data removed]",
      "text/plain": [
       "<Figure size 432x288 with 1 Axes>"
      ]
     },
     "metadata": {
      "needs_background": "light"
     },
     "output_type": "display_data"
    }
   ],
   "source": [
    "agepy=give_age_adult_pyramid(df[df['Employment Status']=='Student'],'Student')\n",
    "agepy.savefig('Student Age')"
   ]
  },
  {
   "cell_type": "code",
   "execution_count": 85,
   "id": "a437a464",
   "metadata": {},
   "outputs": [],
   "source": [
    "#this function gives the number of households with children in the house vs age of the married/divorced/single head. if flag is true it restricts the child age to 10. \n",
    "def growth_children_with_age(age,mari_status,age_x,child_count_age,no_child_count_age,flag):\n",
    "    r=df[df['Marital Status']== mari_status]\n",
    "    e=r[r['Age']<age]\n",
    "    j=e[e['Relationship to Head of House']=='Head']\n",
    "    child=0\n",
    "    no_child=0\n",
    "    for i in j.index:\n",
    "        q=give_house_detail(i,j)\n",
    "        if flag:\n",
    "            q=q[q['Age']<11]\n",
    "            #checks the presence of a son daughter or adopted son granddaughter adopted son in a household to consider them in the count.\n",
    "        if 'Son' in q['Relationship to Head of House'].unique() or 'Daughter' in q['Relationship to Head of House'].unique() or 'Step-Daughter' in q['Relationship to Head of House'].unique() or 'Step-Son' in q['Relationship to Head of House'].unique() or 'Adopted Daughter' in q['Relationship to Head of House'].unique() or  'Granddaughter' in q['Relationship to Head of House'].unique() or 'Adopted Son' in q['Relationship to Head of House'].unique() :\n",
    "            child=child+1\n",
    "        else:\n",
    "            no_child=no_child+1\n",
    "    child_count_age.append(child)\n",
    "    no_child_count_age.append(no_child)\n",
    "    age_x.append(age)\n",
    "    if(age>80):\n",
    "        return\n",
    "    else:\n",
    "        #increases the age with recursion to calculate growth. Dynamically stores it with every age \n",
    "        growth_children_with_age(age+5,mari_status,age_x,child_count_age,no_child_count_age,flag) "
   ]
  },
  {
   "cell_type": "code",
   "execution_count": 86,
   "id": "fbd20d68",
   "metadata": {},
   "outputs": [],
   "source": [
    "#plots graph using above data.\n",
    "#green shows household without a child and red shows with a child.\n",
    "def give_growth_of_children_graph(age,mari_status,child):\n",
    "    a=[]\n",
    "    b=[]\n",
    "    agex=[]\n",
    "    growth_children_with_age(age,mari_status,agex,a,b,child)\n",
    "    #pk=pd.DataFrame({'Age':age_x,'child':a,'nochild':b})\n",
    "    fig, ax = plt.subplots()\n",
    "    ax.plot(agex, a,label='{}  with children'.format(mari_status),color='red' ,marker='o',linewidth=2, markersize=5)\n",
    "    ax.plot(agex,b ,label='{} without children'.format(mari_status),color='green',marker='o',linewidth=2, markersize=5)\n",
    "    if child:\n",
    "        ax.set(xlabel='Age of the Couple',ylabel='Count of household with/without child under 10')\n",
    "    else:\n",
    "        ax.set(xlabel='Age of the Couple',ylabel='Count of household with/without child') \n",
    "    ax.legend()\n",
    "    plt.show()\n",
    "    return ax.get_figure()"
   ]
  },
  {
   "cell_type": "code",
   "execution_count": 87,
   "id": "a696322a",
   "metadata": {},
   "outputs": [
    {
     "data": {
      "image/png": "[encoded data removed]",
      "text/plain": [
       "<Figure size 432x288 with 1 Axes>"
      ]
     },
     "metadata": {
      "needs_background": "light"
     },
     "output_type": "display_data"
    }
   ],
   "source": [
    "divorced_child_in_house=give_growth_of_children_graph(20,'Divorced',True)\n",
    "divorced_child_in_house.savefig('divorced_child_in_house')"
   ]
  },
  {
   "cell_type": "code",
   "execution_count": 88,
   "id": "551864ff",
   "metadata": {},
   "outputs": [
    {
     "data": {
      "image/png": "[encoded data removed]",
      "text/plain": [
       "<Figure size 432x288 with 1 Axes>"
      ]
     },
     "metadata": {
      "needs_background": "light"
     },
     "output_type": "display_data"
    }
   ],
   "source": [
    "divorced_in_house=give_growth_of_children_graph(20,'Divorced',False)\n",
    "divorced_in_house.savefig('divorced_in_house')"
   ]
  },
  {
   "cell_type": "code",
   "execution_count": 89,
   "id": "eb3ced88",
   "metadata": {},
   "outputs": [
    {
     "data": {
      "image/png": "[encoded data removed]",
      "text/plain": [
       "<Figure size 432x288 with 1 Axes>"
      ]
     },
     "metadata": {
      "needs_background": "light"
     },
     "output_type": "display_data"
    }
   ],
   "source": [
    "married_in_house=give_growth_of_children_graph(20,'Married',False)\n",
    "married_in_house.savefig('married_in_house')"
   ]
  },
  {
   "cell_type": "code",
   "execution_count": 90,
   "id": "015eb67e",
   "metadata": {},
   "outputs": [
    {
     "data": {
      "image/png": "[encoded data removed]",
      "text/plain": [
       "<Figure size 432x288 with 1 Axes>"
      ]
     },
     "metadata": {
      "needs_background": "light"
     },
     "output_type": "display_data"
    }
   ],
   "source": [
    "married_child_in_house=give_growth_of_children_graph(20,'Married',True)\n",
    "married_child_in_house.savefig('married_child_in_house')"
   ]
  },
  {
   "cell_type": "code",
   "execution_count": 91,
   "id": "38e3b0c1",
   "metadata": {},
   "outputs": [
    {
     "data": {
      "image/png": "[encoded data removed]",
      "text/plain": [
       "<Figure size 432x288 with 1 Axes>"
      ]
     },
     "metadata": {
      "needs_background": "light"
     },
     "output_type": "display_data"
    }
   ],
   "source": [
    "k=percentage_pyramid(df[df['Marital Status']=='Single'],df,'Single')\n",
    "k.savefig('Single percentage')"
   ]
  },
  {
   "cell_type": "code",
   "execution_count": 92,
   "id": "74c68359",
   "metadata": {},
   "outputs": [],
   "source": [
    "#this function gives the percentage graph on the basis of net population and age distribution of a particular df respecet to a total polpulation.\n",
    "def net_percentage_pyramid(d,title): # d is the conditioned dataframe\n",
    "    male_age=[]\n",
    "    female_age=[]\n",
    "    tm=len(df[df['Gender']=='Male']) #calulates net males\n",
    "    tf=len(df[df['Gender']=='Female'])# calculates net females\n",
    "    for i in range(100,-1,-10):\n",
    "        if i==20:\n",
    "            i=i-2\n",
    "        male_age.append(len(d[d['Gender']=='Male'][d[d['Gender']=='Male']['Age']>=i])-sum(male_age))\n",
    "        female_age.append(len(d[d['Gender']=='Female'][d[d['Gender']=='Female']['Age']>=i])-sum(female_age))\n",
    "    male_age = [(i * -100)/tm for i in male_age] #converts to percentage. \n",
    "    female_age = [(i * 100)/tf for i in female_age] #converts to percentage.\n",
    "    AgeClass = ['100+', '90-99', '80-89', '70-79', '60-69', '50-59', '40-49', '30-39', '18-29', '10-17', '0-9']\n",
    "\n",
    "    age_p = pd.DataFrame({'Age': ['100+', '90-99', '80-89', '70-79', '60-69', '50-59', '40-49',\n",
    "    '30-39', '18-29', '10-17', '0-9'],\n",
    "     'Male': male_age,\n",
    "     'Female': female_age})\n",
    "    \n",
    "    r = random.random()\n",
    "    b = random.random()\n",
    "    g = random.random()\n",
    "    age_pyramid = sns.barplot(x='Male', y='Age', data=age_p, order=AgeClass,\n",
    "    color=(r,g,b), label='Male')\n",
    "    r = random.random()\n",
    "    b = random.random()\n",
    "    g = random.random()\n",
    "    age_pyramid = sns.barplot(x='Female', y='Age', data=age_p, order=AgeClass,\n",
    "    color=(r,g,b), label='Female')\n",
    "    age_pyramid.legend()\n",
    "    age_pyramid.set(xlabel=\"Percentage of Total Population\", ylabel=\"Age-Group\", title = \"{} Age Pyramid\".format(title))\n",
    "    return age_pyramid.get_figure()"
   ]
  },
  {
   "cell_type": "code",
   "execution_count": 93,
   "id": "003ad4f2",
   "metadata": {},
   "outputs": [
    {
     "data": {
      "image/png": "[encoded data removed]",
      "text/plain": [
       "<Figure size 432x288 with 1 Axes>"
      ]
     },
     "metadata": {
      "needs_background": "light"
     },
     "output_type": "display_data"
    }
   ],
   "source": [
    "t=net_percentage_pyramid(df,'Percentage')\n",
    "t.savefig('percentage of population')"
   ]
  },
  {
   "cell_type": "code",
   "execution_count": 94,
   "id": "47787bb1",
   "metadata": {},
   "outputs": [
    {
     "data": {
      "image/png": "[encoded data removed]",
      "text/plain": [
       "<Figure size 432x288 with 1 Axes>"
      ]
     },
     "metadata": {
      "needs_background": "light"
     },
     "output_type": "display_data"
    }
   ],
   "source": [
    "t=net_percentage_pyramid(df[df['Employment Status']=='Unemployed'],'Percentage')\n",
    "t.savefig('percentage of unemployed population')"
   ]
  },
  {
   "cell_type": "code",
   "execution_count": 95,
   "id": "a0fbb95e",
   "metadata": {},
   "outputs": [
    {
     "data": {
      "image/png": "[encoded data removed]",
      "text/plain": [
       "<Figure size 432x288 with 1 Axes>"
      ]
     },
     "metadata": {
      "needs_background": "light"
     },
     "output_type": "display_data"
    }
   ],
   "source": [
    "t=net_percentage_pyramid(df[df['Employment Status']=='Employed'],'Percentage')\n",
    "t.savefig('percentage of employed population')"
   ]
  },
  {
   "cell_type": "code",
   "execution_count": 96,
   "id": "5c48371f",
   "metadata": {},
   "outputs": [
    {
     "data": {
      "image/png": "[encoded data removed]",
      "text/plain": [
       "<Figure size 432x288 with 1 Axes>"
      ]
     },
     "metadata": {
      "needs_background": "light"
     },
     "output_type": "display_data"
    }
   ],
   "source": [
    "t=net_percentage_pyramid(df[df['Religion']=='Christian'],'percentage of population Chritian Reliigion')\n",
    "t.savefig('percentage of Christian population')"
   ]
  },
  {
   "cell_type": "code",
   "execution_count": 97,
   "id": "78001b81",
   "metadata": {
    "scrolled": true
   },
   "outputs": [
    {
     "data": {
      "image/png": "[encoded data removed]",
      "text/plain": [
       "<Figure size 432x288 with 1 Axes>"
      ]
     },
     "metadata": {
      "needs_background": "light"
     },
     "output_type": "display_data"
    }
   ],
   "source": [
    "t=net_percentage_pyramid(df[df['Religion']=='None'],'percentage of population None Reliigion')\n",
    "t.savefig('percentage of population None Reliigion')"
   ]
  },
  {
   "cell_type": "code",
   "execution_count": 98,
   "id": "05299470",
   "metadata": {},
   "outputs": [
    {
     "data": {
      "image/png": "[encoded data removed]",
      "text/plain": [
       "<Figure size 432x288 with 1 Axes>"
      ]
     },
     "metadata": {
      "needs_background": "light"
     },
     "output_type": "display_data"
    }
   ],
   "source": [
    "t=net_percentage_pyramid(df[df['Marital Status']=='Married'],'percentage of Married population')\n",
    "t.savefig('percentage of married population ')"
   ]
  },
  {
   "cell_type": "code",
   "execution_count": 99,
   "id": "0bad2c9c",
   "metadata": {},
   "outputs": [
    {
     "data": {
      "image/png": "[encoded data removed]",
      "text/plain": [
       "<Figure size 432x288 with 1 Axes>"
      ]
     },
     "metadata": {
      "needs_background": "light"
     },
     "output_type": "display_data"
    }
   ],
   "source": [
    "t=net_percentage_pyramid(df[df['Marital Status']=='Single'],'percentage of Single population')\n",
    "t.savefig('percentage of Single population ')"
   ]
  },
  {
   "cell_type": "code",
   "execution_count": 100,
   "id": "ee90a926",
   "metadata": {},
   "outputs": [
    {
     "data": {
      "image/png": "[encoded data removed]",
      "text/plain": [
       "<Figure size 432x288 with 1 Axes>"
      ]
     },
     "metadata": {
      "needs_background": "light"
     },
     "output_type": "display_data"
    }
   ],
   "source": [
    "t=net_percentage_pyramid(df[df['Marital Status']=='Divorced'],'percentage of Divorced population')\n",
    "t.savefig('percentage of Divorced population ')"
   ]
  },
  {
   "cell_type": "code",
   "execution_count": 101,
   "id": "e6523eb2",
   "metadata": {},
   "outputs": [
    {
     "data": {
      "image/png": "[encoded data removed]",
      "text/plain": [
       "<Figure size 432x288 with 1 Axes>"
      ]
     },
     "metadata": {
      "needs_background": "light"
     },
     "output_type": "display_data"
    }
   ],
   "source": [
    "t=net_percentage_pyramid(df[df['Religion']=='Catholic'],'percentage of population catholic Reliigion')\n",
    "t.savefig('percentage of population catholic Reliigion')"
   ]
  },
  {
   "cell_type": "code",
   "execution_count": null,
   "id": "dbf8521f",
   "metadata": {},
   "outputs": [],
   "source": []
  }
 ],
 "metadata": {
  "kernelspec": {
   "display_name": "Python 3 (ipykernel)",
   "language": "python",
   "name": "python3"
  },
  "language_info": {
   "codemirror_mode": {
    "name": "ipython",
    "version": 3
   },
   "file_extension": ".py",
   "mimetype": "text/x-python",
   "name": "python",
   "nbconvert_exporter": "python",
   "pygments_lexer": "ipython3",
   "version": "3.9.5"
  }
 },
 "nbformat": 4,
 "nbformat_minor": 5
}
